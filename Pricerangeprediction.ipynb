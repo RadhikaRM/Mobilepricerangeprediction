{
  "nbformat": 4,
  "nbformat_minor": 0,
  "metadata": {
    "colab": {
      "name": "Pricerangeprediction",
      "provenance": [],
      "mount_file_id": "1iG5ONeZgAOj2dbaKBjoUC4EWOEedEv6s",
      "authorship_tag": "ABX9TyOR/7c9+6X3vX2MDwhdpJhk",
      "include_colab_link": true
    },
    "kernelspec": {
      "name": "python3",
      "display_name": "Python 3"
    },
    "language_info": {
      "name": "python"
    }
  },
  "cells": [
    {
      "cell_type": "markdown",
      "metadata": {
        "id": "view-in-github",
        "colab_type": "text"
      },
      "source": [
        "<a href=\"https://colab.research.google.com/github/RadhikaRM/Mobilepricerangeprediction/blob/main/Pricerangeprediction.ipynb\" target=\"_parent\"><img src=\"https://colab.research.google.com/assets/colab-badge.svg\" alt=\"Open In Colab\"/></a>"
      ]
    },
    {
      "cell_type": "markdown",
      "source": [
        "In the competitive mobile phone market companies want \n",
        "to ***understand sales data of mobile phones and factors which drive the prices.*** The objective is to f*ind out some relation between features of a mobile phone(eg:- RAM, Internal Memory, etc) and its selling price*. \n",
        "In this problem, we do not have to predict the actual price but a price range indicating how high the price is. \n",
        "\n",
        "# ***Data Description***\n",
        "\n",
        "* Battery_power - Total energy a battery can store in one time measured in mAh \n",
        "* **Blue - Has bluetooth or not**\n",
        "* Clock_speed - speed at which microprocessor executes instructions \n",
        "* **Dual_sim - Has dual sim support or not**\n",
        "* Fc - Front Camera mega pixels \n",
        "* **Four_g - Has 4G or not**\n",
        "* Int_memory - Internal Memory in Gigabytes \n",
        "* M_dep - Mobile Depth in cm \n",
        "* Mobile_wt - Weight of mobile phone \n",
        "* N_cores - Number of cores of processor \n",
        "* Pc - Primary Camera mega pixels \n",
        "* Px_height - Pixel Resolution Height \n",
        "* Px_width - Pixel Resolution Width \n",
        "* Ram - Random Access Memory in Mega Bytes \n",
        "* Sc_h - Screen Height of mobile in cm \n",
        "* Sc_w - Screen Width of mobile in cm \n",
        "* Talk_time - longest time that a single battery charge will last when you are\n",
        "* **Three_g - Has 3G or not** \n",
        "* **Touch_screen - Has touch screen or not** \n",
        "* **Wifi - Has wifi or not** \n",
        "* **Price_range - This is the target variable with value of 0(low cost), 1(medium cost), 2(high cost) and 3(very high cost).**"
      ],
      "metadata": {
        "id": "8A9mjhPmpB7i"
      }
    },
    {
      "cell_type": "markdown",
      "metadata": {
        "id": "tUw9NmYSPEdV"
      },
      "source": [
        "# ***Importing the data***"
      ]
    },
    {
      "cell_type": "code",
      "execution_count": null,
      "metadata": {
        "id": "TRCCj9K_PpjG"
      },
      "outputs": [],
      "source": [
        "import pandas as pd\n",
        "import numpy as np\n",
        "import matplotlib.pyplot as plt\n",
        "import seaborn as sns"
      ]
    },
    {
      "cell_type": "code",
      "execution_count": null,
      "metadata": {
        "id": "mz2qWHTXNCAk"
      },
      "outputs": [],
      "source": [
        "df = pd.read_csv(\"/content/drive/MyDrive/Almabetter/Mobile_price_prediction/data_mobile_price_range.csv\")"
      ]
    },
    {
      "cell_type": "code",
      "execution_count": null,
      "metadata": {
        "colab": {
          "base_uri": "https://localhost:8080/",
          "height": 236
        },
        "id": "XRawTCJJPmqR",
        "outputId": "39f5b77e-53a0-44a9-ada5-86f2a3670ec1"
      },
      "outputs": [
        {
          "output_type": "execute_result",
          "data": {
            "text/plain": [
              "   battery_power  blue  clock_speed  dual_sim  fc  four_g  int_memory  m_dep  \\\n",
              "0            842     0          2.2         0   1       0           7    0.6   \n",
              "1           1021     1          0.5         1   0       1          53    0.7   \n",
              "2            563     1          0.5         1   2       1          41    0.9   \n",
              "\n",
              "   mobile_wt  n_cores  ...  px_height  px_width   ram  sc_h  sc_w  talk_time  \\\n",
              "0        188        2  ...         20       756  2549     9     7         19   \n",
              "1        136        3  ...        905      1988  2631    17     3          7   \n",
              "2        145        5  ...       1263      1716  2603    11     2          9   \n",
              "\n",
              "   three_g  touch_screen  wifi  price_range  \n",
              "0        0             0     1            1  \n",
              "1        1             1     0            2  \n",
              "2        1             1     0            2  \n",
              "\n",
              "[3 rows x 21 columns]"
            ],
            "text/html": [
              "\n",
              "  <div id=\"df-c7c3e315-5b12-4261-81ff-fea6d9320863\">\n",
              "    <div class=\"colab-df-container\">\n",
              "      <div>\n",
              "<style scoped>\n",
              "    .dataframe tbody tr th:only-of-type {\n",
              "        vertical-align: middle;\n",
              "    }\n",
              "\n",
              "    .dataframe tbody tr th {\n",
              "        vertical-align: top;\n",
              "    }\n",
              "\n",
              "    .dataframe thead th {\n",
              "        text-align: right;\n",
              "    }\n",
              "</style>\n",
              "<table border=\"1\" class=\"dataframe\">\n",
              "  <thead>\n",
              "    <tr style=\"text-align: right;\">\n",
              "      <th></th>\n",
              "      <th>battery_power</th>\n",
              "      <th>blue</th>\n",
              "      <th>clock_speed</th>\n",
              "      <th>dual_sim</th>\n",
              "      <th>fc</th>\n",
              "      <th>four_g</th>\n",
              "      <th>int_memory</th>\n",
              "      <th>m_dep</th>\n",
              "      <th>mobile_wt</th>\n",
              "      <th>n_cores</th>\n",
              "      <th>...</th>\n",
              "      <th>px_height</th>\n",
              "      <th>px_width</th>\n",
              "      <th>ram</th>\n",
              "      <th>sc_h</th>\n",
              "      <th>sc_w</th>\n",
              "      <th>talk_time</th>\n",
              "      <th>three_g</th>\n",
              "      <th>touch_screen</th>\n",
              "      <th>wifi</th>\n",
              "      <th>price_range</th>\n",
              "    </tr>\n",
              "  </thead>\n",
              "  <tbody>\n",
              "    <tr>\n",
              "      <th>0</th>\n",
              "      <td>842</td>\n",
              "      <td>0</td>\n",
              "      <td>2.2</td>\n",
              "      <td>0</td>\n",
              "      <td>1</td>\n",
              "      <td>0</td>\n",
              "      <td>7</td>\n",
              "      <td>0.6</td>\n",
              "      <td>188</td>\n",
              "      <td>2</td>\n",
              "      <td>...</td>\n",
              "      <td>20</td>\n",
              "      <td>756</td>\n",
              "      <td>2549</td>\n",
              "      <td>9</td>\n",
              "      <td>7</td>\n",
              "      <td>19</td>\n",
              "      <td>0</td>\n",
              "      <td>0</td>\n",
              "      <td>1</td>\n",
              "      <td>1</td>\n",
              "    </tr>\n",
              "    <tr>\n",
              "      <th>1</th>\n",
              "      <td>1021</td>\n",
              "      <td>1</td>\n",
              "      <td>0.5</td>\n",
              "      <td>1</td>\n",
              "      <td>0</td>\n",
              "      <td>1</td>\n",
              "      <td>53</td>\n",
              "      <td>0.7</td>\n",
              "      <td>136</td>\n",
              "      <td>3</td>\n",
              "      <td>...</td>\n",
              "      <td>905</td>\n",
              "      <td>1988</td>\n",
              "      <td>2631</td>\n",
              "      <td>17</td>\n",
              "      <td>3</td>\n",
              "      <td>7</td>\n",
              "      <td>1</td>\n",
              "      <td>1</td>\n",
              "      <td>0</td>\n",
              "      <td>2</td>\n",
              "    </tr>\n",
              "    <tr>\n",
              "      <th>2</th>\n",
              "      <td>563</td>\n",
              "      <td>1</td>\n",
              "      <td>0.5</td>\n",
              "      <td>1</td>\n",
              "      <td>2</td>\n",
              "      <td>1</td>\n",
              "      <td>41</td>\n",
              "      <td>0.9</td>\n",
              "      <td>145</td>\n",
              "      <td>5</td>\n",
              "      <td>...</td>\n",
              "      <td>1263</td>\n",
              "      <td>1716</td>\n",
              "      <td>2603</td>\n",
              "      <td>11</td>\n",
              "      <td>2</td>\n",
              "      <td>9</td>\n",
              "      <td>1</td>\n",
              "      <td>1</td>\n",
              "      <td>0</td>\n",
              "      <td>2</td>\n",
              "    </tr>\n",
              "  </tbody>\n",
              "</table>\n",
              "<p>3 rows × 21 columns</p>\n",
              "</div>\n",
              "      <button class=\"colab-df-convert\" onclick=\"convertToInteractive('df-c7c3e315-5b12-4261-81ff-fea6d9320863')\"\n",
              "              title=\"Convert this dataframe to an interactive table.\"\n",
              "              style=\"display:none;\">\n",
              "        \n",
              "  <svg xmlns=\"http://www.w3.org/2000/svg\" height=\"24px\"viewBox=\"0 0 24 24\"\n",
              "       width=\"24px\">\n",
              "    <path d=\"M0 0h24v24H0V0z\" fill=\"none\"/>\n",
              "    <path d=\"M18.56 5.44l.94 2.06.94-2.06 2.06-.94-2.06-.94-.94-2.06-.94 2.06-2.06.94zm-11 1L8.5 8.5l.94-2.06 2.06-.94-2.06-.94L8.5 2.5l-.94 2.06-2.06.94zm10 10l.94 2.06.94-2.06 2.06-.94-2.06-.94-.94-2.06-.94 2.06-2.06.94z\"/><path d=\"M17.41 7.96l-1.37-1.37c-.4-.4-.92-.59-1.43-.59-.52 0-1.04.2-1.43.59L10.3 9.45l-7.72 7.72c-.78.78-.78 2.05 0 2.83L4 21.41c.39.39.9.59 1.41.59.51 0 1.02-.2 1.41-.59l7.78-7.78 2.81-2.81c.8-.78.8-2.07 0-2.86zM5.41 20L4 18.59l7.72-7.72 1.47 1.35L5.41 20z\"/>\n",
              "  </svg>\n",
              "      </button>\n",
              "      \n",
              "  <style>\n",
              "    .colab-df-container {\n",
              "      display:flex;\n",
              "      flex-wrap:wrap;\n",
              "      gap: 12px;\n",
              "    }\n",
              "\n",
              "    .colab-df-convert {\n",
              "      background-color: #E8F0FE;\n",
              "      border: none;\n",
              "      border-radius: 50%;\n",
              "      cursor: pointer;\n",
              "      display: none;\n",
              "      fill: #1967D2;\n",
              "      height: 32px;\n",
              "      padding: 0 0 0 0;\n",
              "      width: 32px;\n",
              "    }\n",
              "\n",
              "    .colab-df-convert:hover {\n",
              "      background-color: #E2EBFA;\n",
              "      box-shadow: 0px 1px 2px rgba(60, 64, 67, 0.3), 0px 1px 3px 1px rgba(60, 64, 67, 0.15);\n",
              "      fill: #174EA6;\n",
              "    }\n",
              "\n",
              "    [theme=dark] .colab-df-convert {\n",
              "      background-color: #3B4455;\n",
              "      fill: #D2E3FC;\n",
              "    }\n",
              "\n",
              "    [theme=dark] .colab-df-convert:hover {\n",
              "      background-color: #434B5C;\n",
              "      box-shadow: 0px 1px 3px 1px rgba(0, 0, 0, 0.15);\n",
              "      filter: drop-shadow(0px 1px 2px rgba(0, 0, 0, 0.3));\n",
              "      fill: #FFFFFF;\n",
              "    }\n",
              "  </style>\n",
              "\n",
              "      <script>\n",
              "        const buttonEl =\n",
              "          document.querySelector('#df-c7c3e315-5b12-4261-81ff-fea6d9320863 button.colab-df-convert');\n",
              "        buttonEl.style.display =\n",
              "          google.colab.kernel.accessAllowed ? 'block' : 'none';\n",
              "\n",
              "        async function convertToInteractive(key) {\n",
              "          const element = document.querySelector('#df-c7c3e315-5b12-4261-81ff-fea6d9320863');\n",
              "          const dataTable =\n",
              "            await google.colab.kernel.invokeFunction('convertToInteractive',\n",
              "                                                     [key], {});\n",
              "          if (!dataTable) return;\n",
              "\n",
              "          const docLinkHtml = 'Like what you see? Visit the ' +\n",
              "            '<a target=\"_blank\" href=https://colab.research.google.com/notebooks/data_table.ipynb>data table notebook</a>'\n",
              "            + ' to learn more about interactive tables.';\n",
              "          element.innerHTML = '';\n",
              "          dataTable['output_type'] = 'display_data';\n",
              "          await google.colab.output.renderOutput(dataTable, element);\n",
              "          const docLink = document.createElement('div');\n",
              "          docLink.innerHTML = docLinkHtml;\n",
              "          element.appendChild(docLink);\n",
              "        }\n",
              "      </script>\n",
              "    </div>\n",
              "  </div>\n",
              "  "
            ]
          },
          "metadata": {},
          "execution_count": 6
        }
      ],
      "source": [
        "#diplaying the first 3 rows\n",
        "df.head(3)"
      ]
    },
    {
      "cell_type": "code",
      "execution_count": null,
      "metadata": {
        "colab": {
          "base_uri": "https://localhost:8080/"
        },
        "id": "fID7yNH0QBIl",
        "outputId": "b6f7394e-26b5-44eb-c6a9-03ae57df624a"
      },
      "outputs": [
        {
          "output_type": "stream",
          "name": "stdout",
          "text": [
            "<class 'pandas.core.frame.DataFrame'>\n",
            "RangeIndex: 2000 entries, 0 to 1999\n",
            "Data columns (total 21 columns):\n",
            " #   Column         Non-Null Count  Dtype  \n",
            "---  ------         --------------  -----  \n",
            " 0   battery_power  2000 non-null   int64  \n",
            " 1   blue           2000 non-null   int64  \n",
            " 2   clock_speed    2000 non-null   float64\n",
            " 3   dual_sim       2000 non-null   int64  \n",
            " 4   fc             2000 non-null   int64  \n",
            " 5   four_g         2000 non-null   int64  \n",
            " 6   int_memory     2000 non-null   int64  \n",
            " 7   m_dep          2000 non-null   float64\n",
            " 8   mobile_wt      2000 non-null   int64  \n",
            " 9   n_cores        2000 non-null   int64  \n",
            " 10  pc             2000 non-null   int64  \n",
            " 11  px_height      2000 non-null   int64  \n",
            " 12  px_width       2000 non-null   int64  \n",
            " 13  ram            2000 non-null   int64  \n",
            " 14  sc_h           2000 non-null   int64  \n",
            " 15  sc_w           2000 non-null   int64  \n",
            " 16  talk_time      2000 non-null   int64  \n",
            " 17  three_g        2000 non-null   int64  \n",
            " 18  touch_screen   2000 non-null   int64  \n",
            " 19  wifi           2000 non-null   int64  \n",
            " 20  price_range    2000 non-null   int64  \n",
            "dtypes: float64(2), int64(19)\n",
            "memory usage: 328.2 KB\n"
          ]
        }
      ],
      "source": [
        "df.info()"
      ]
    },
    {
      "cell_type": "markdown",
      "metadata": {
        "id": "sFLhUAitRzKn"
      },
      "source": [
        "The dataset has 2000 rows and 21 columns.None of the columns contain null values"
      ]
    },
    {
      "cell_type": "code",
      "execution_count": null,
      "metadata": {
        "colab": {
          "base_uri": "https://localhost:8080/",
          "height": 142
        },
        "id": "pQDu-hDJV_RP",
        "outputId": "a59d6fe4-87fd-4c9d-f21f-8e695663dedd"
      },
      "outputs": [
        {
          "output_type": "execute_result",
          "data": {
            "text/plain": [
              "Empty DataFrame\n",
              "Columns: [battery_power, blue, clock_speed, dual_sim, fc, four_g, int_memory, m_dep, mobile_wt, n_cores, pc, px_height, px_width, ram, sc_h, sc_w, talk_time, three_g, touch_screen, wifi, price_range]\n",
              "Index: []\n",
              "\n",
              "[0 rows x 21 columns]"
            ],
            "text/html": [
              "\n",
              "  <div id=\"df-5ca29c02-1907-472c-a3ea-65215a64a1eb\">\n",
              "    <div class=\"colab-df-container\">\n",
              "      <div>\n",
              "<style scoped>\n",
              "    .dataframe tbody tr th:only-of-type {\n",
              "        vertical-align: middle;\n",
              "    }\n",
              "\n",
              "    .dataframe tbody tr th {\n",
              "        vertical-align: top;\n",
              "    }\n",
              "\n",
              "    .dataframe thead th {\n",
              "        text-align: right;\n",
              "    }\n",
              "</style>\n",
              "<table border=\"1\" class=\"dataframe\">\n",
              "  <thead>\n",
              "    <tr style=\"text-align: right;\">\n",
              "      <th></th>\n",
              "      <th>battery_power</th>\n",
              "      <th>blue</th>\n",
              "      <th>clock_speed</th>\n",
              "      <th>dual_sim</th>\n",
              "      <th>fc</th>\n",
              "      <th>four_g</th>\n",
              "      <th>int_memory</th>\n",
              "      <th>m_dep</th>\n",
              "      <th>mobile_wt</th>\n",
              "      <th>n_cores</th>\n",
              "      <th>...</th>\n",
              "      <th>px_height</th>\n",
              "      <th>px_width</th>\n",
              "      <th>ram</th>\n",
              "      <th>sc_h</th>\n",
              "      <th>sc_w</th>\n",
              "      <th>talk_time</th>\n",
              "      <th>three_g</th>\n",
              "      <th>touch_screen</th>\n",
              "      <th>wifi</th>\n",
              "      <th>price_range</th>\n",
              "    </tr>\n",
              "  </thead>\n",
              "  <tbody>\n",
              "  </tbody>\n",
              "</table>\n",
              "<p>0 rows × 21 columns</p>\n",
              "</div>\n",
              "      <button class=\"colab-df-convert\" onclick=\"convertToInteractive('df-5ca29c02-1907-472c-a3ea-65215a64a1eb')\"\n",
              "              title=\"Convert this dataframe to an interactive table.\"\n",
              "              style=\"display:none;\">\n",
              "        \n",
              "  <svg xmlns=\"http://www.w3.org/2000/svg\" height=\"24px\"viewBox=\"0 0 24 24\"\n",
              "       width=\"24px\">\n",
              "    <path d=\"M0 0h24v24H0V0z\" fill=\"none\"/>\n",
              "    <path d=\"M18.56 5.44l.94 2.06.94-2.06 2.06-.94-2.06-.94-.94-2.06-.94 2.06-2.06.94zm-11 1L8.5 8.5l.94-2.06 2.06-.94-2.06-.94L8.5 2.5l-.94 2.06-2.06.94zm10 10l.94 2.06.94-2.06 2.06-.94-2.06-.94-.94-2.06-.94 2.06-2.06.94z\"/><path d=\"M17.41 7.96l-1.37-1.37c-.4-.4-.92-.59-1.43-.59-.52 0-1.04.2-1.43.59L10.3 9.45l-7.72 7.72c-.78.78-.78 2.05 0 2.83L4 21.41c.39.39.9.59 1.41.59.51 0 1.02-.2 1.41-.59l7.78-7.78 2.81-2.81c.8-.78.8-2.07 0-2.86zM5.41 20L4 18.59l7.72-7.72 1.47 1.35L5.41 20z\"/>\n",
              "  </svg>\n",
              "      </button>\n",
              "      \n",
              "  <style>\n",
              "    .colab-df-container {\n",
              "      display:flex;\n",
              "      flex-wrap:wrap;\n",
              "      gap: 12px;\n",
              "    }\n",
              "\n",
              "    .colab-df-convert {\n",
              "      background-color: #E8F0FE;\n",
              "      border: none;\n",
              "      border-radius: 50%;\n",
              "      cursor: pointer;\n",
              "      display: none;\n",
              "      fill: #1967D2;\n",
              "      height: 32px;\n",
              "      padding: 0 0 0 0;\n",
              "      width: 32px;\n",
              "    }\n",
              "\n",
              "    .colab-df-convert:hover {\n",
              "      background-color: #E2EBFA;\n",
              "      box-shadow: 0px 1px 2px rgba(60, 64, 67, 0.3), 0px 1px 3px 1px rgba(60, 64, 67, 0.15);\n",
              "      fill: #174EA6;\n",
              "    }\n",
              "\n",
              "    [theme=dark] .colab-df-convert {\n",
              "      background-color: #3B4455;\n",
              "      fill: #D2E3FC;\n",
              "    }\n",
              "\n",
              "    [theme=dark] .colab-df-convert:hover {\n",
              "      background-color: #434B5C;\n",
              "      box-shadow: 0px 1px 3px 1px rgba(0, 0, 0, 0.15);\n",
              "      filter: drop-shadow(0px 1px 2px rgba(0, 0, 0, 0.3));\n",
              "      fill: #FFFFFF;\n",
              "    }\n",
              "  </style>\n",
              "\n",
              "      <script>\n",
              "        const buttonEl =\n",
              "          document.querySelector('#df-5ca29c02-1907-472c-a3ea-65215a64a1eb button.colab-df-convert');\n",
              "        buttonEl.style.display =\n",
              "          google.colab.kernel.accessAllowed ? 'block' : 'none';\n",
              "\n",
              "        async function convertToInteractive(key) {\n",
              "          const element = document.querySelector('#df-5ca29c02-1907-472c-a3ea-65215a64a1eb');\n",
              "          const dataTable =\n",
              "            await google.colab.kernel.invokeFunction('convertToInteractive',\n",
              "                                                     [key], {});\n",
              "          if (!dataTable) return;\n",
              "\n",
              "          const docLinkHtml = 'Like what you see? Visit the ' +\n",
              "            '<a target=\"_blank\" href=https://colab.research.google.com/notebooks/data_table.ipynb>data table notebook</a>'\n",
              "            + ' to learn more about interactive tables.';\n",
              "          element.innerHTML = '';\n",
              "          dataTable['output_type'] = 'display_data';\n",
              "          await google.colab.output.renderOutput(dataTable, element);\n",
              "          const docLink = document.createElement('div');\n",
              "          docLink.innerHTML = docLinkHtml;\n",
              "          element.appendChild(docLink);\n",
              "        }\n",
              "      </script>\n",
              "    </div>\n",
              "  </div>\n",
              "  "
            ]
          },
          "metadata": {},
          "execution_count": 8
        }
      ],
      "source": [
        "#Checking for duplicates\n",
        "df[df.duplicated()]"
      ]
    },
    {
      "cell_type": "code",
      "execution_count": null,
      "metadata": {
        "colab": {
          "base_uri": "https://localhost:8080/"
        },
        "id": "DpeG-BbaRVW_",
        "outputId": "a8fe0359-036b-4392-9ac4-39ccfef17cb3"
      },
      "outputs": [
        {
          "output_type": "stream",
          "name": "stdout",
          "text": [
            "battery_power has 1094 unique elements and they are:\n",
            " [ 842 1021  563 ... 1139 1467  858]\n",
            "blue has 2 unique elements and they are:\n",
            " [0 1]\n",
            "clock_speed has 26 unique elements and they are:\n",
            " [2.2 0.5 2.5 1.2 1.7 0.6 2.9 2.8 2.1 1.  0.9 1.1 2.6 1.4 1.6 2.7 1.3 2.3\n",
            " 2.  1.8 3.  1.5 1.9 2.4 0.8 0.7]\n",
            "dual_sim has 2 unique elements and they are:\n",
            " [0 1]\n",
            "fc has 20 unique elements and they are:\n",
            " [ 1  0  2 13  3  4  5  7 11 12 16  6 15  8  9 10 18 17 14 19]\n",
            "four_g has 2 unique elements and they are:\n",
            " [0 1]\n",
            "int_memory has 63 unique elements and they are:\n",
            " [ 7 53 41 10 44 22 24  9 33 17 52 46 13 23 49 19 39 47 38  8 57 51 21  5\n",
            " 60 61  6 11 50 34 20 27 42 40 64 14 63 43 16 48 12 55 36 30 45 29 58 25\n",
            "  3 54 15 37 31 32  4 18  2 56 26 35 59 28 62]\n",
            "m_dep has 10 unique elements and they are:\n",
            " [0.6 0.7 0.9 0.8 0.1 0.5 1.  0.3 0.4 0.2]\n",
            "mobile_wt has 121 unique elements and they are:\n",
            " [188 136 145 131 141 164 139 187 174  93 182 177 159 198 185 196 121 101\n",
            "  81 156 199 114 111 132 143  96 200  88 150 107 100 157 160 119  87 152\n",
            " 166 110 118 162 127 109 102 104 148 180 128 134 144 168 155 165  80 138\n",
            " 142  90 197 172 116  85 163 178 171 103  83 140 194 146 192 106 135 153\n",
            "  89  82 130 189 181  99 184 195 108 133 179 147 137 190 176  84  97 124\n",
            " 183 113  92  95 151 117  94 173 105 115  91 112 123 129 154 191 175  86\n",
            "  98 125 126 158 170 161 193 169 120 149 186 122 167]\n",
            "n_cores has 8 unique elements and they are:\n",
            " [2 3 5 6 1 8 4 7]\n",
            "pc has 21 unique elements and they are:\n",
            " [ 2  6  9 14  7 10  0 15  1 18 17 11 16  4 20 13  3 19  8  5 12]\n",
            "px_height has 1137 unique elements and they are:\n",
            " [  20  905 1263 ...  528  915  483]\n",
            "px_width has 1109 unique elements and they are:\n",
            " [ 756 1988 1716 ...  743 1890 1632]\n",
            "ram has 1562 unique elements and they are:\n",
            " [2549 2631 2603 ... 2032 3057 3919]\n",
            "sc_h has 15 unique elements and they are:\n",
            " [ 9 17 11 16  8 13 19  5 14 18  7 10 12  6 15]\n",
            "sc_w has 19 unique elements and they are:\n",
            " [ 7  3  2  8  1 10  9  0 15 13  5 11  4 12  6 17 14 16 18]\n",
            "talk_time has 19 unique elements and they are:\n",
            " [19  7  9 11 15 10 18  5 20 12 13  2  4  3 16  6 14 17  8]\n",
            "three_g has 2 unique elements and they are:\n",
            " [0 1]\n",
            "touch_screen has 2 unique elements and they are:\n",
            " [0 1]\n",
            "wifi has 2 unique elements and they are:\n",
            " [1 0]\n",
            "price_range has 4 unique elements and they are:\n",
            " [1 2 3 0]\n"
          ]
        }
      ],
      "source": [
        "#Number of unique elements in each column\n",
        "for col in df.columns:\n",
        "  print(f'{col} has {df[col].nunique()} unique elements and they are:\\n {df[col].unique()}')"
      ]
    },
    {
      "cell_type": "code",
      "source": [
        "df.describe().T"
      ],
      "metadata": {
        "colab": {
          "base_uri": "https://localhost:8080/",
          "height": 707
        },
        "id": "4UxYmhGW6IsZ",
        "outputId": "4e734fe7-d229-432f-af1e-55ca4c7c1535"
      },
      "execution_count": null,
      "outputs": [
        {
          "output_type": "execute_result",
          "data": {
            "text/plain": [
              "                count        mean          std    min      25%     50%  \\\n",
              "battery_power  2000.0  1238.51850   439.418206  501.0   851.75  1226.0   \n",
              "blue           2000.0     0.49500     0.500100    0.0     0.00     0.0   \n",
              "clock_speed    2000.0     1.52225     0.816004    0.5     0.70     1.5   \n",
              "dual_sim       2000.0     0.50950     0.500035    0.0     0.00     1.0   \n",
              "fc             2000.0     4.30950     4.341444    0.0     1.00     3.0   \n",
              "four_g         2000.0     0.52150     0.499662    0.0     0.00     1.0   \n",
              "int_memory     2000.0    32.04650    18.145715    2.0    16.00    32.0   \n",
              "m_dep          2000.0     0.50175     0.288416    0.1     0.20     0.5   \n",
              "mobile_wt      2000.0   140.24900    35.399655   80.0   109.00   141.0   \n",
              "n_cores        2000.0     4.52050     2.287837    1.0     3.00     4.0   \n",
              "pc             2000.0     9.91650     6.064315    0.0     5.00    10.0   \n",
              "px_height      2000.0   645.10800   443.780811    0.0   282.75   564.0   \n",
              "px_width       2000.0  1251.51550   432.199447  500.0   874.75  1247.0   \n",
              "ram            2000.0  2124.21300  1084.732044  256.0  1207.50  2146.5   \n",
              "sc_h           2000.0    12.30650     4.213245    5.0     9.00    12.0   \n",
              "sc_w           2000.0     5.76700     4.356398    0.0     2.00     5.0   \n",
              "talk_time      2000.0    11.01100     5.463955    2.0     6.00    11.0   \n",
              "three_g        2000.0     0.76150     0.426273    0.0     1.00     1.0   \n",
              "touch_screen   2000.0     0.50300     0.500116    0.0     0.00     1.0   \n",
              "wifi           2000.0     0.50700     0.500076    0.0     0.00     1.0   \n",
              "price_range    2000.0     1.50000     1.118314    0.0     0.75     1.5   \n",
              "\n",
              "                   75%     max  \n",
              "battery_power  1615.25  1998.0  \n",
              "blue              1.00     1.0  \n",
              "clock_speed       2.20     3.0  \n",
              "dual_sim          1.00     1.0  \n",
              "fc                7.00    19.0  \n",
              "four_g            1.00     1.0  \n",
              "int_memory       48.00    64.0  \n",
              "m_dep             0.80     1.0  \n",
              "mobile_wt       170.00   200.0  \n",
              "n_cores           7.00     8.0  \n",
              "pc               15.00    20.0  \n",
              "px_height       947.25  1960.0  \n",
              "px_width       1633.00  1998.0  \n",
              "ram            3064.50  3998.0  \n",
              "sc_h             16.00    19.0  \n",
              "sc_w              9.00    18.0  \n",
              "talk_time        16.00    20.0  \n",
              "three_g           1.00     1.0  \n",
              "touch_screen      1.00     1.0  \n",
              "wifi              1.00     1.0  \n",
              "price_range       2.25     3.0  "
            ],
            "text/html": [
              "\n",
              "  <div id=\"df-3ec8f3ab-32b1-46b0-9ed2-de524fd66be9\">\n",
              "    <div class=\"colab-df-container\">\n",
              "      <div>\n",
              "<style scoped>\n",
              "    .dataframe tbody tr th:only-of-type {\n",
              "        vertical-align: middle;\n",
              "    }\n",
              "\n",
              "    .dataframe tbody tr th {\n",
              "        vertical-align: top;\n",
              "    }\n",
              "\n",
              "    .dataframe thead th {\n",
              "        text-align: right;\n",
              "    }\n",
              "</style>\n",
              "<table border=\"1\" class=\"dataframe\">\n",
              "  <thead>\n",
              "    <tr style=\"text-align: right;\">\n",
              "      <th></th>\n",
              "      <th>count</th>\n",
              "      <th>mean</th>\n",
              "      <th>std</th>\n",
              "      <th>min</th>\n",
              "      <th>25%</th>\n",
              "      <th>50%</th>\n",
              "      <th>75%</th>\n",
              "      <th>max</th>\n",
              "    </tr>\n",
              "  </thead>\n",
              "  <tbody>\n",
              "    <tr>\n",
              "      <th>battery_power</th>\n",
              "      <td>2000.0</td>\n",
              "      <td>1238.51850</td>\n",
              "      <td>439.418206</td>\n",
              "      <td>501.0</td>\n",
              "      <td>851.75</td>\n",
              "      <td>1226.0</td>\n",
              "      <td>1615.25</td>\n",
              "      <td>1998.0</td>\n",
              "    </tr>\n",
              "    <tr>\n",
              "      <th>blue</th>\n",
              "      <td>2000.0</td>\n",
              "      <td>0.49500</td>\n",
              "      <td>0.500100</td>\n",
              "      <td>0.0</td>\n",
              "      <td>0.00</td>\n",
              "      <td>0.0</td>\n",
              "      <td>1.00</td>\n",
              "      <td>1.0</td>\n",
              "    </tr>\n",
              "    <tr>\n",
              "      <th>clock_speed</th>\n",
              "      <td>2000.0</td>\n",
              "      <td>1.52225</td>\n",
              "      <td>0.816004</td>\n",
              "      <td>0.5</td>\n",
              "      <td>0.70</td>\n",
              "      <td>1.5</td>\n",
              "      <td>2.20</td>\n",
              "      <td>3.0</td>\n",
              "    </tr>\n",
              "    <tr>\n",
              "      <th>dual_sim</th>\n",
              "      <td>2000.0</td>\n",
              "      <td>0.50950</td>\n",
              "      <td>0.500035</td>\n",
              "      <td>0.0</td>\n",
              "      <td>0.00</td>\n",
              "      <td>1.0</td>\n",
              "      <td>1.00</td>\n",
              "      <td>1.0</td>\n",
              "    </tr>\n",
              "    <tr>\n",
              "      <th>fc</th>\n",
              "      <td>2000.0</td>\n",
              "      <td>4.30950</td>\n",
              "      <td>4.341444</td>\n",
              "      <td>0.0</td>\n",
              "      <td>1.00</td>\n",
              "      <td>3.0</td>\n",
              "      <td>7.00</td>\n",
              "      <td>19.0</td>\n",
              "    </tr>\n",
              "    <tr>\n",
              "      <th>four_g</th>\n",
              "      <td>2000.0</td>\n",
              "      <td>0.52150</td>\n",
              "      <td>0.499662</td>\n",
              "      <td>0.0</td>\n",
              "      <td>0.00</td>\n",
              "      <td>1.0</td>\n",
              "      <td>1.00</td>\n",
              "      <td>1.0</td>\n",
              "    </tr>\n",
              "    <tr>\n",
              "      <th>int_memory</th>\n",
              "      <td>2000.0</td>\n",
              "      <td>32.04650</td>\n",
              "      <td>18.145715</td>\n",
              "      <td>2.0</td>\n",
              "      <td>16.00</td>\n",
              "      <td>32.0</td>\n",
              "      <td>48.00</td>\n",
              "      <td>64.0</td>\n",
              "    </tr>\n",
              "    <tr>\n",
              "      <th>m_dep</th>\n",
              "      <td>2000.0</td>\n",
              "      <td>0.50175</td>\n",
              "      <td>0.288416</td>\n",
              "      <td>0.1</td>\n",
              "      <td>0.20</td>\n",
              "      <td>0.5</td>\n",
              "      <td>0.80</td>\n",
              "      <td>1.0</td>\n",
              "    </tr>\n",
              "    <tr>\n",
              "      <th>mobile_wt</th>\n",
              "      <td>2000.0</td>\n",
              "      <td>140.24900</td>\n",
              "      <td>35.399655</td>\n",
              "      <td>80.0</td>\n",
              "      <td>109.00</td>\n",
              "      <td>141.0</td>\n",
              "      <td>170.00</td>\n",
              "      <td>200.0</td>\n",
              "    </tr>\n",
              "    <tr>\n",
              "      <th>n_cores</th>\n",
              "      <td>2000.0</td>\n",
              "      <td>4.52050</td>\n",
              "      <td>2.287837</td>\n",
              "      <td>1.0</td>\n",
              "      <td>3.00</td>\n",
              "      <td>4.0</td>\n",
              "      <td>7.00</td>\n",
              "      <td>8.0</td>\n",
              "    </tr>\n",
              "    <tr>\n",
              "      <th>pc</th>\n",
              "      <td>2000.0</td>\n",
              "      <td>9.91650</td>\n",
              "      <td>6.064315</td>\n",
              "      <td>0.0</td>\n",
              "      <td>5.00</td>\n",
              "      <td>10.0</td>\n",
              "      <td>15.00</td>\n",
              "      <td>20.0</td>\n",
              "    </tr>\n",
              "    <tr>\n",
              "      <th>px_height</th>\n",
              "      <td>2000.0</td>\n",
              "      <td>645.10800</td>\n",
              "      <td>443.780811</td>\n",
              "      <td>0.0</td>\n",
              "      <td>282.75</td>\n",
              "      <td>564.0</td>\n",
              "      <td>947.25</td>\n",
              "      <td>1960.0</td>\n",
              "    </tr>\n",
              "    <tr>\n",
              "      <th>px_width</th>\n",
              "      <td>2000.0</td>\n",
              "      <td>1251.51550</td>\n",
              "      <td>432.199447</td>\n",
              "      <td>500.0</td>\n",
              "      <td>874.75</td>\n",
              "      <td>1247.0</td>\n",
              "      <td>1633.00</td>\n",
              "      <td>1998.0</td>\n",
              "    </tr>\n",
              "    <tr>\n",
              "      <th>ram</th>\n",
              "      <td>2000.0</td>\n",
              "      <td>2124.21300</td>\n",
              "      <td>1084.732044</td>\n",
              "      <td>256.0</td>\n",
              "      <td>1207.50</td>\n",
              "      <td>2146.5</td>\n",
              "      <td>3064.50</td>\n",
              "      <td>3998.0</td>\n",
              "    </tr>\n",
              "    <tr>\n",
              "      <th>sc_h</th>\n",
              "      <td>2000.0</td>\n",
              "      <td>12.30650</td>\n",
              "      <td>4.213245</td>\n",
              "      <td>5.0</td>\n",
              "      <td>9.00</td>\n",
              "      <td>12.0</td>\n",
              "      <td>16.00</td>\n",
              "      <td>19.0</td>\n",
              "    </tr>\n",
              "    <tr>\n",
              "      <th>sc_w</th>\n",
              "      <td>2000.0</td>\n",
              "      <td>5.76700</td>\n",
              "      <td>4.356398</td>\n",
              "      <td>0.0</td>\n",
              "      <td>2.00</td>\n",
              "      <td>5.0</td>\n",
              "      <td>9.00</td>\n",
              "      <td>18.0</td>\n",
              "    </tr>\n",
              "    <tr>\n",
              "      <th>talk_time</th>\n",
              "      <td>2000.0</td>\n",
              "      <td>11.01100</td>\n",
              "      <td>5.463955</td>\n",
              "      <td>2.0</td>\n",
              "      <td>6.00</td>\n",
              "      <td>11.0</td>\n",
              "      <td>16.00</td>\n",
              "      <td>20.0</td>\n",
              "    </tr>\n",
              "    <tr>\n",
              "      <th>three_g</th>\n",
              "      <td>2000.0</td>\n",
              "      <td>0.76150</td>\n",
              "      <td>0.426273</td>\n",
              "      <td>0.0</td>\n",
              "      <td>1.00</td>\n",
              "      <td>1.0</td>\n",
              "      <td>1.00</td>\n",
              "      <td>1.0</td>\n",
              "    </tr>\n",
              "    <tr>\n",
              "      <th>touch_screen</th>\n",
              "      <td>2000.0</td>\n",
              "      <td>0.50300</td>\n",
              "      <td>0.500116</td>\n",
              "      <td>0.0</td>\n",
              "      <td>0.00</td>\n",
              "      <td>1.0</td>\n",
              "      <td>1.00</td>\n",
              "      <td>1.0</td>\n",
              "    </tr>\n",
              "    <tr>\n",
              "      <th>wifi</th>\n",
              "      <td>2000.0</td>\n",
              "      <td>0.50700</td>\n",
              "      <td>0.500076</td>\n",
              "      <td>0.0</td>\n",
              "      <td>0.00</td>\n",
              "      <td>1.0</td>\n",
              "      <td>1.00</td>\n",
              "      <td>1.0</td>\n",
              "    </tr>\n",
              "    <tr>\n",
              "      <th>price_range</th>\n",
              "      <td>2000.0</td>\n",
              "      <td>1.50000</td>\n",
              "      <td>1.118314</td>\n",
              "      <td>0.0</td>\n",
              "      <td>0.75</td>\n",
              "      <td>1.5</td>\n",
              "      <td>2.25</td>\n",
              "      <td>3.0</td>\n",
              "    </tr>\n",
              "  </tbody>\n",
              "</table>\n",
              "</div>\n",
              "      <button class=\"colab-df-convert\" onclick=\"convertToInteractive('df-3ec8f3ab-32b1-46b0-9ed2-de524fd66be9')\"\n",
              "              title=\"Convert this dataframe to an interactive table.\"\n",
              "              style=\"display:none;\">\n",
              "        \n",
              "  <svg xmlns=\"http://www.w3.org/2000/svg\" height=\"24px\"viewBox=\"0 0 24 24\"\n",
              "       width=\"24px\">\n",
              "    <path d=\"M0 0h24v24H0V0z\" fill=\"none\"/>\n",
              "    <path d=\"M18.56 5.44l.94 2.06.94-2.06 2.06-.94-2.06-.94-.94-2.06-.94 2.06-2.06.94zm-11 1L8.5 8.5l.94-2.06 2.06-.94-2.06-.94L8.5 2.5l-.94 2.06-2.06.94zm10 10l.94 2.06.94-2.06 2.06-.94-2.06-.94-.94-2.06-.94 2.06-2.06.94z\"/><path d=\"M17.41 7.96l-1.37-1.37c-.4-.4-.92-.59-1.43-.59-.52 0-1.04.2-1.43.59L10.3 9.45l-7.72 7.72c-.78.78-.78 2.05 0 2.83L4 21.41c.39.39.9.59 1.41.59.51 0 1.02-.2 1.41-.59l7.78-7.78 2.81-2.81c.8-.78.8-2.07 0-2.86zM5.41 20L4 18.59l7.72-7.72 1.47 1.35L5.41 20z\"/>\n",
              "  </svg>\n",
              "      </button>\n",
              "      \n",
              "  <style>\n",
              "    .colab-df-container {\n",
              "      display:flex;\n",
              "      flex-wrap:wrap;\n",
              "      gap: 12px;\n",
              "    }\n",
              "\n",
              "    .colab-df-convert {\n",
              "      background-color: #E8F0FE;\n",
              "      border: none;\n",
              "      border-radius: 50%;\n",
              "      cursor: pointer;\n",
              "      display: none;\n",
              "      fill: #1967D2;\n",
              "      height: 32px;\n",
              "      padding: 0 0 0 0;\n",
              "      width: 32px;\n",
              "    }\n",
              "\n",
              "    .colab-df-convert:hover {\n",
              "      background-color: #E2EBFA;\n",
              "      box-shadow: 0px 1px 2px rgba(60, 64, 67, 0.3), 0px 1px 3px 1px rgba(60, 64, 67, 0.15);\n",
              "      fill: #174EA6;\n",
              "    }\n",
              "\n",
              "    [theme=dark] .colab-df-convert {\n",
              "      background-color: #3B4455;\n",
              "      fill: #D2E3FC;\n",
              "    }\n",
              "\n",
              "    [theme=dark] .colab-df-convert:hover {\n",
              "      background-color: #434B5C;\n",
              "      box-shadow: 0px 1px 3px 1px rgba(0, 0, 0, 0.15);\n",
              "      filter: drop-shadow(0px 1px 2px rgba(0, 0, 0, 0.3));\n",
              "      fill: #FFFFFF;\n",
              "    }\n",
              "  </style>\n",
              "\n",
              "      <script>\n",
              "        const buttonEl =\n",
              "          document.querySelector('#df-3ec8f3ab-32b1-46b0-9ed2-de524fd66be9 button.colab-df-convert');\n",
              "        buttonEl.style.display =\n",
              "          google.colab.kernel.accessAllowed ? 'block' : 'none';\n",
              "\n",
              "        async function convertToInteractive(key) {\n",
              "          const element = document.querySelector('#df-3ec8f3ab-32b1-46b0-9ed2-de524fd66be9');\n",
              "          const dataTable =\n",
              "            await google.colab.kernel.invokeFunction('convertToInteractive',\n",
              "                                                     [key], {});\n",
              "          if (!dataTable) return;\n",
              "\n",
              "          const docLinkHtml = 'Like what you see? Visit the ' +\n",
              "            '<a target=\"_blank\" href=https://colab.research.google.com/notebooks/data_table.ipynb>data table notebook</a>'\n",
              "            + ' to learn more about interactive tables.';\n",
              "          element.innerHTML = '';\n",
              "          dataTable['output_type'] = 'display_data';\n",
              "          await google.colab.output.renderOutput(dataTable, element);\n",
              "          const docLink = document.createElement('div');\n",
              "          docLink.innerHTML = docLinkHtml;\n",
              "          element.appendChild(docLink);\n",
              "        }\n",
              "      </script>\n",
              "    </div>\n",
              "  </div>\n",
              "  "
            ]
          },
          "metadata": {},
          "execution_count": 10
        }
      ]
    },
    {
      "cell_type": "code",
      "execution_count": null,
      "metadata": {
        "id": "BTZrPkF16Vvx",
        "colab": {
          "base_uri": "https://localhost:8080/"
        },
        "outputId": "b2353f93-a731-46a3-b325-ceec67d10b73"
      },
      "outputs": [
        {
          "output_type": "execute_result",
          "data": {
            "text/plain": [
              "180"
            ]
          },
          "metadata": {},
          "execution_count": 11
        }
      ],
      "source": [
        "len(df[df['sc_w']==0.0])"
      ]
    },
    {
      "cell_type": "code",
      "source": [
        "df[df['px_height']==0.0]"
      ],
      "metadata": {
        "colab": {
          "base_uri": "https://localhost:8080/",
          "height": 205
        },
        "id": "_knrVfVnPDwe",
        "outputId": "52a2b451-8c82-49ad-acd4-397fba24fb75"
      },
      "execution_count": null,
      "outputs": [
        {
          "output_type": "execute_result",
          "data": {
            "text/plain": [
              "      battery_power  blue  clock_speed  dual_sim  fc  four_g  int_memory  \\\n",
              "1481           1834     0          2.1         0   7       1          40   \n",
              "1933            897     1          2.0         0   3       1           2   \n",
              "\n",
              "      m_dep  mobile_wt  n_cores  ...  px_height  px_width   ram  sc_h  sc_w  \\\n",
              "1481    0.1         99        4  ...          0      1987  3692    13     0   \n",
              "1933    0.6        154        8  ...          0       994  1958     7     5   \n",
              "\n",
              "      talk_time  three_g  touch_screen  wifi  price_range  \n",
              "1481         16        1             1     0            3  \n",
              "1933          7        1             1     0            1  \n",
              "\n",
              "[2 rows x 21 columns]"
            ],
            "text/html": [
              "\n",
              "  <div id=\"df-cde53242-1090-4d1c-96b5-60b3ef484043\">\n",
              "    <div class=\"colab-df-container\">\n",
              "      <div>\n",
              "<style scoped>\n",
              "    .dataframe tbody tr th:only-of-type {\n",
              "        vertical-align: middle;\n",
              "    }\n",
              "\n",
              "    .dataframe tbody tr th {\n",
              "        vertical-align: top;\n",
              "    }\n",
              "\n",
              "    .dataframe thead th {\n",
              "        text-align: right;\n",
              "    }\n",
              "</style>\n",
              "<table border=\"1\" class=\"dataframe\">\n",
              "  <thead>\n",
              "    <tr style=\"text-align: right;\">\n",
              "      <th></th>\n",
              "      <th>battery_power</th>\n",
              "      <th>blue</th>\n",
              "      <th>clock_speed</th>\n",
              "      <th>dual_sim</th>\n",
              "      <th>fc</th>\n",
              "      <th>four_g</th>\n",
              "      <th>int_memory</th>\n",
              "      <th>m_dep</th>\n",
              "      <th>mobile_wt</th>\n",
              "      <th>n_cores</th>\n",
              "      <th>...</th>\n",
              "      <th>px_height</th>\n",
              "      <th>px_width</th>\n",
              "      <th>ram</th>\n",
              "      <th>sc_h</th>\n",
              "      <th>sc_w</th>\n",
              "      <th>talk_time</th>\n",
              "      <th>three_g</th>\n",
              "      <th>touch_screen</th>\n",
              "      <th>wifi</th>\n",
              "      <th>price_range</th>\n",
              "    </tr>\n",
              "  </thead>\n",
              "  <tbody>\n",
              "    <tr>\n",
              "      <th>1481</th>\n",
              "      <td>1834</td>\n",
              "      <td>0</td>\n",
              "      <td>2.1</td>\n",
              "      <td>0</td>\n",
              "      <td>7</td>\n",
              "      <td>1</td>\n",
              "      <td>40</td>\n",
              "      <td>0.1</td>\n",
              "      <td>99</td>\n",
              "      <td>4</td>\n",
              "      <td>...</td>\n",
              "      <td>0</td>\n",
              "      <td>1987</td>\n",
              "      <td>3692</td>\n",
              "      <td>13</td>\n",
              "      <td>0</td>\n",
              "      <td>16</td>\n",
              "      <td>1</td>\n",
              "      <td>1</td>\n",
              "      <td>0</td>\n",
              "      <td>3</td>\n",
              "    </tr>\n",
              "    <tr>\n",
              "      <th>1933</th>\n",
              "      <td>897</td>\n",
              "      <td>1</td>\n",
              "      <td>2.0</td>\n",
              "      <td>0</td>\n",
              "      <td>3</td>\n",
              "      <td>1</td>\n",
              "      <td>2</td>\n",
              "      <td>0.6</td>\n",
              "      <td>154</td>\n",
              "      <td>8</td>\n",
              "      <td>...</td>\n",
              "      <td>0</td>\n",
              "      <td>994</td>\n",
              "      <td>1958</td>\n",
              "      <td>7</td>\n",
              "      <td>5</td>\n",
              "      <td>7</td>\n",
              "      <td>1</td>\n",
              "      <td>1</td>\n",
              "      <td>0</td>\n",
              "      <td>1</td>\n",
              "    </tr>\n",
              "  </tbody>\n",
              "</table>\n",
              "<p>2 rows × 21 columns</p>\n",
              "</div>\n",
              "      <button class=\"colab-df-convert\" onclick=\"convertToInteractive('df-cde53242-1090-4d1c-96b5-60b3ef484043')\"\n",
              "              title=\"Convert this dataframe to an interactive table.\"\n",
              "              style=\"display:none;\">\n",
              "        \n",
              "  <svg xmlns=\"http://www.w3.org/2000/svg\" height=\"24px\"viewBox=\"0 0 24 24\"\n",
              "       width=\"24px\">\n",
              "    <path d=\"M0 0h24v24H0V0z\" fill=\"none\"/>\n",
              "    <path d=\"M18.56 5.44l.94 2.06.94-2.06 2.06-.94-2.06-.94-.94-2.06-.94 2.06-2.06.94zm-11 1L8.5 8.5l.94-2.06 2.06-.94-2.06-.94L8.5 2.5l-.94 2.06-2.06.94zm10 10l.94 2.06.94-2.06 2.06-.94-2.06-.94-.94-2.06-.94 2.06-2.06.94z\"/><path d=\"M17.41 7.96l-1.37-1.37c-.4-.4-.92-.59-1.43-.59-.52 0-1.04.2-1.43.59L10.3 9.45l-7.72 7.72c-.78.78-.78 2.05 0 2.83L4 21.41c.39.39.9.59 1.41.59.51 0 1.02-.2 1.41-.59l7.78-7.78 2.81-2.81c.8-.78.8-2.07 0-2.86zM5.41 20L4 18.59l7.72-7.72 1.47 1.35L5.41 20z\"/>\n",
              "  </svg>\n",
              "      </button>\n",
              "      \n",
              "  <style>\n",
              "    .colab-df-container {\n",
              "      display:flex;\n",
              "      flex-wrap:wrap;\n",
              "      gap: 12px;\n",
              "    }\n",
              "\n",
              "    .colab-df-convert {\n",
              "      background-color: #E8F0FE;\n",
              "      border: none;\n",
              "      border-radius: 50%;\n",
              "      cursor: pointer;\n",
              "      display: none;\n",
              "      fill: #1967D2;\n",
              "      height: 32px;\n",
              "      padding: 0 0 0 0;\n",
              "      width: 32px;\n",
              "    }\n",
              "\n",
              "    .colab-df-convert:hover {\n",
              "      background-color: #E2EBFA;\n",
              "      box-shadow: 0px 1px 2px rgba(60, 64, 67, 0.3), 0px 1px 3px 1px rgba(60, 64, 67, 0.15);\n",
              "      fill: #174EA6;\n",
              "    }\n",
              "\n",
              "    [theme=dark] .colab-df-convert {\n",
              "      background-color: #3B4455;\n",
              "      fill: #D2E3FC;\n",
              "    }\n",
              "\n",
              "    [theme=dark] .colab-df-convert:hover {\n",
              "      background-color: #434B5C;\n",
              "      box-shadow: 0px 1px 3px 1px rgba(0, 0, 0, 0.15);\n",
              "      filter: drop-shadow(0px 1px 2px rgba(0, 0, 0, 0.3));\n",
              "      fill: #FFFFFF;\n",
              "    }\n",
              "  </style>\n",
              "\n",
              "      <script>\n",
              "        const buttonEl =\n",
              "          document.querySelector('#df-cde53242-1090-4d1c-96b5-60b3ef484043 button.colab-df-convert');\n",
              "        buttonEl.style.display =\n",
              "          google.colab.kernel.accessAllowed ? 'block' : 'none';\n",
              "\n",
              "        async function convertToInteractive(key) {\n",
              "          const element = document.querySelector('#df-cde53242-1090-4d1c-96b5-60b3ef484043');\n",
              "          const dataTable =\n",
              "            await google.colab.kernel.invokeFunction('convertToInteractive',\n",
              "                                                     [key], {});\n",
              "          if (!dataTable) return;\n",
              "\n",
              "          const docLinkHtml = 'Like what you see? Visit the ' +\n",
              "            '<a target=\"_blank\" href=https://colab.research.google.com/notebooks/data_table.ipynb>data table notebook</a>'\n",
              "            + ' to learn more about interactive tables.';\n",
              "          element.innerHTML = '';\n",
              "          dataTable['output_type'] = 'display_data';\n",
              "          await google.colab.output.renderOutput(dataTable, element);\n",
              "          const docLink = document.createElement('div');\n",
              "          docLink.innerHTML = docLinkHtml;\n",
              "          element.appendChild(docLink);\n",
              "        }\n",
              "      </script>\n",
              "    </div>\n",
              "  </div>\n",
              "  "
            ]
          },
          "metadata": {},
          "execution_count": 12
        }
      ]
    },
    {
      "cell_type": "markdown",
      "source": [
        "The data contains 180 mobiles with zero screen width,this is not possible in real."
      ],
      "metadata": {
        "id": "t0pMpSC67s8k"
      }
    },
    {
      "cell_type": "code",
      "source": [
        "#creating list of numerical and categorical columns for the dataframe 'df'\n",
        "numerical_columns=[]\n",
        "for col in df.columns:\n",
        "  if df[col].nunique()>5:\n",
        "    numerical_columns.append(col)\n",
        "categorical_columns=list(set(df.columns)-set(numerical_columns))"
      ],
      "metadata": {
        "id": "F_Y1LLpKjlha"
      },
      "execution_count": null,
      "outputs": []
    },
    {
      "cell_type": "code",
      "source": [
        "print(f'The numerical columns are {numerical_columns}\\n Categorical columns are : {categorical_columns}')"
      ],
      "metadata": {
        "id": "yXvWcCNTpyb0",
        "colab": {
          "base_uri": "https://localhost:8080/"
        },
        "outputId": "d990a9c3-21b4-48af-ee0c-7ac72ffd4d21"
      },
      "execution_count": null,
      "outputs": [
        {
          "output_type": "stream",
          "name": "stdout",
          "text": [
            "The numerical columns are ['battery_power', 'clock_speed', 'fc', 'int_memory', 'm_dep', 'mobile_wt', 'n_cores', 'pc', 'px_height', 'px_width', 'ram', 'sc_h', 'sc_w', 'talk_time']\n",
            " Categorical columns are : ['price_range', 'touch_screen', 'blue', 'wifi', 'four_g', 'three_g', 'dual_sim']\n"
          ]
        }
      ]
    },
    {
      "cell_type": "markdown",
      "metadata": {
        "id": "2zIxqnuWaKin"
      },
      "source": [
        "# ***Univariate analysis***"
      ]
    },
    {
      "cell_type": "code",
      "execution_count": null,
      "metadata": {
        "colab": {
          "base_uri": "https://localhost:8080/"
        },
        "id": "-mS2vk7ASyi2",
        "outputId": "2f050b38-4f68-49c3-9a48-88d69cb93e06"
      },
      "outputs": [
        {
          "output_type": "display_data",
          "data": {
            "text/plain": [
              "<Figure size 864x1080 with 14 Axes>"
            ],
            "image/png": "[encoded data removed]"
          },
          "metadata": {
            "needs_background": "light"
          }
        }
      ],
      "source": [
        "fig = plt.figure(figsize=(12,15))\n",
        "c=1\n",
        "for i in numerical_columns:\n",
        "  plt.subplot(5,3, c)\n",
        "  sns.histplot(df[i],kde=True)\n",
        "  plt.title('Distibution of {}'.format(i))\n",
        "  c+=1\n",
        "plt.tight_layout()  "
      ]
    },
    {
      "cell_type": "code",
      "execution_count": null,
      "metadata": {
        "colab": {
          "base_uri": "https://localhost:8080/"
        },
        "id": "5kXio0Z7S72G",
        "outputId": "ff2a1bb1-b6b3-4c29-f454-e5a1d0ea809a"
      },
      "outputs": [
        {
          "output_type": "display_data",
          "data": {
            "text/plain": [
              "<Figure size 576x1800 with 14 Axes>"
            ],
            "image/png": "[encoded data removed]"
          },
          "metadata": {
            "needs_background": "light"
          }
        }
      ],
      "source": [
        "#Checking for outliers\n",
        "\n",
        "fig = plt.figure(figsize=(8,25))\n",
        "c=1\n",
        "for i in numerical_columns :\n",
        "    plt.subplot(15,1, c)\n",
        "    plt.xlabel('Distibution of {}'.format(i))\n",
        "    sns.boxplot(x=i,data=df)\n",
        "    c = c + 1\n",
        "plt.tight_layout(pad=0.4, w_pad=0.5, h_pad=5.0)"
      ]
    },
    {
      "cell_type": "markdown",
      "metadata": {
        "id": "bDwPTyw_UUvw"
      },
      "source": [
        "The numerical columns do not have values which are extreme and unusual"
      ]
    },
    {
      "cell_type": "code",
      "execution_count": null,
      "metadata": {
        "colab": {
          "base_uri": "https://localhost:8080/"
        },
        "id": "fa41g8ilUMb5",
        "outputId": "a1d741a7-f2d7-4602-98c8-934093ba8c07"
      },
      "outputs": [
        {
          "output_type": "display_data",
          "data": {
            "text/plain": [
              "<Figure size 1008x1008 with 7 Axes>"
            ],
            "image/png": "[encoded data removed]"
          },
          "metadata": {
            "needs_background": "light"
          }
        }
      ],
      "source": [
        "#Count plot of categorical columns\n",
        "#Checking for outliers\n",
        "\n",
        "fig = plt.figure(figsize=(14,14))\n",
        "c=1\n",
        "for i in categorical_columns :\n",
        "    plt.subplot(4,3, c)\n",
        "    sns.countplot(x=i,data=df,palette='Set1')\n",
        "    plt.title('Count plot of {}'.format(i))\n",
        "    c = c + 1\n",
        "plt.tight_layout(pad=0.4, w_pad=0.5, h_pad=5.0)\n"
      ]
    },
    {
      "cell_type": "markdown",
      "metadata": {
        "id": "_kF4jnOHY2Gv"
      },
      "source": [
        "* Most of the phones currently available in the market  have 3G support\n",
        "* There is a similar count of records for phones belonging to all price ranges in the given data."
      ]
    },
    {
      "cell_type": "code",
      "source": [
        "plt.figure(figsize=(10,6))\n",
        "df['fc'].hist(alpha=0.7,color='Red',label='Front camera')\n",
        "df['pc'].hist(alpha=0.7,color='Purple',label='Primary camera')\n",
        "plt.legend()\n",
        "plt.xlabel('MegaPixels')\n",
        "plt.ylabel('Number of phones')"
      ],
      "metadata": {
        "colab": {
          "base_uri": "https://localhost:8080/"
        },
        "id": "8qVaNU16-Gb2",
        "outputId": "b4725284-850d-4c8e-f1ef-c754acd172b8"
      },
      "execution_count": null,
      "outputs": [
        {
          "output_type": "execute_result",
          "data": {
            "text/plain": [
              "Text(0, 0.5, 'Number of phones')"
            ]
          },
          "metadata": {},
          "execution_count": 18
        },
        {
          "output_type": "display_data",
          "data": {
            "text/plain": [
              "<Figure size 720x432 with 1 Axes>"
            ],
            "image/png": "[encoded data removed]"
          },
          "metadata": {
            "needs_background": "light"
          }
        }
      ]
    },
    {
      "cell_type": "markdown",
      "source": [
        "*  Front cameras present in majority of phones have poor quality(below 2.5 MP)"
      ],
      "metadata": {
        "id": "J1KeSzJJ-_Ck"
      }
    },
    {
      "cell_type": "markdown",
      "metadata": {
        "id": "h4KLMjGgao4Y"
      },
      "source": [
        "# ***Bivariate and Multivariate analysis***"
      ]
    },
    {
      "cell_type": "code",
      "execution_count": null,
      "metadata": {
        "colab": {
          "base_uri": "https://localhost:8080/"
        },
        "id": "H_xW2ObIWnG7",
        "outputId": "349c5d31-2f62-475f-f0b1-86736adf350f"
      },
      "outputs": [
        {
          "output_type": "display_data",
          "data": {
            "text/plain": [
              "<Figure size 1440x1440 with 14 Axes>"
            ],
            "image/png": "[encoded data removed]"
          },
          "metadata": {
            "needs_background": "light"
          }
        }
      ],
      "source": [
        "fig = plt.figure(figsize=(20,20))\n",
        "c=1\n",
        "for i in numerical_columns :\n",
        "    plt.subplot(5,3, c)\n",
        "    sns.boxplot(x='price_range',y=i,data=df,hue='price_range',palette='Set1')\n",
        "    plt.legend(bbox_to_anchor=(1, 1), loc='upper left', borderaxespad=0)\n",
        "    plt.title(f'Plot of {i} versus Price range')\n",
        "    c = c + 1\n",
        "plt.tight_layout(pad=0.3, w_pad=0.3, h_pad=2.0)\n",
        "  "
      ]
    },
    {
      "cell_type": "markdown",
      "metadata": {
        "id": "q2dTF-1F4Wty"
      },
      "source": [
        "* Higher priced phones have higher RAM and higher battery power"
      ]
    },
    {
      "cell_type": "code",
      "execution_count": null,
      "metadata": {
        "colab": {
          "base_uri": "https://localhost:8080/"
        },
        "id": "HtnIxK2ZmphM",
        "outputId": "6b6030d9-be2a-424b-8439-82782b4e3d21"
      },
      "outputs": [
        {
          "output_type": "display_data",
          "data": {
            "text/plain": [
              "<Figure size 720x576 with 6 Axes>"
            ],
            "image/png": "[encoded data removed]"
          },
          "metadata": {
            "needs_background": "light"
          }
        }
      ],
      "source": [
        "fig = plt.figure(figsize=(10,8))\n",
        "c=1\n",
        "for i in ['blue', 'dual_sim', 'four_g', 'three_g', 'touch_screen', 'wifi'] :\n",
        "    plt.subplot(3,3, c)\n",
        "    sns.countplot(x=i,data=df,hue='price_range',palette='Set1')\n",
        "    plt.legend(bbox_to_anchor=(1, 1), loc='upper left', borderaxespad=0)\n",
        "    plt.title(f'Plot of {i} versus Price range')\n",
        "    c = c + 1\n",
        "plt.tight_layout(pad=0.3, w_pad=0.3, h_pad=3.0)"
      ]
    },
    {
      "cell_type": "markdown",
      "metadata": {
        "id": "__zWcAxBz3Iw"
      },
      "source": [
        "# ***Feature engineering***\n",
        "\n",
        "\n",
        "\n",
        "\n"
      ]
    },
    {
      "cell_type": "code",
      "execution_count": null,
      "metadata": {
        "id": "8SYfwZdc8Sxt"
      },
      "outputs": [],
      "source": [
        "# making a copy of our dataset\n",
        "df_1 = df.copy()"
      ]
    },
    {
      "cell_type": "markdown",
      "source": [
        "\n",
        "\n",
        "> ### **Treating incorrect values**\n",
        "\n"
      ],
      "metadata": {
        "id": "Zc3p2kSLYyT4"
      }
    },
    {
      "cell_type": "code",
      "source": [
        "# replacing sc_w values equal to zero with it's median.\n",
        "df_1['sc_w'].replace(0, df_1['sc_w'].median(), inplace=True)"
      ],
      "metadata": {
        "id": "pBEr2rp4aq9w"
      },
      "execution_count": null,
      "outputs": []
    },
    {
      "cell_type": "code",
      "source": [
        "# replacing px_height values equal to zero with it's median.\n",
        "df_1['px_height'].replace(0, df_1['px_height'].median(), inplace=True)"
      ],
      "metadata": {
        "id": "fyvnkTs9bPZT"
      },
      "execution_count": null,
      "outputs": []
    },
    {
      "cell_type": "markdown",
      "source": [
        "\n",
        "\n",
        "\n",
        "\n",
        "> ### **Feature Extraction & Feature Selection**\n",
        "\n",
        "\n",
        "\n",
        "\n"
      ],
      "metadata": {
        "id": "oUyPbNsUP9zm"
      }
    },
    {
      "cell_type": "code",
      "execution_count": null,
      "metadata": {
        "colab": {
          "base_uri": "https://localhost:8080/",
          "height": 675
        },
        "id": "CJFjUrS0-0_H",
        "outputId": "4e8bb46c-989f-4c31-ee31-4d157bbe658c"
      },
      "outputs": [
        {
          "output_type": "execute_result",
          "data": {
            "text/plain": [
              "<matplotlib.axes._subplots.AxesSubplot at 0x7f594443c890>"
            ]
          },
          "metadata": {},
          "execution_count": 24
        },
        {
          "output_type": "display_data",
          "data": {
            "text/plain": [
              "<Figure size 1008x720 with 2 Axes>"
            ],
            "image/png": "[encoded data removed]"
          },
          "metadata": {
            "needs_background": "light"
          }
        }
      ],
      "source": [
        "# Correlation heatmap \n",
        "plt.figure(figsize=[14,10])\n",
        "sns.heatmap(data=abs(df_1.corr()), annot=False, cmap='coolwarm', linewidths=0.5)"
      ]
    },
    {
      "cell_type": "markdown",
      "source": [
        "The features : battery_power, px_height, px_width, and ram, all have correlations with the dependent variable price_range."
      ],
      "metadata": {
        "id": "xj_pNdIrjmE9"
      }
    },
    {
      "cell_type": "markdown",
      "source": [
        "\n",
        "\n",
        "> ### **Checking Multicollinearity**\n",
        "\n"
      ],
      "metadata": {
        "id": "DMBXk4Bm8ilY"
      }
    },
    {
      "cell_type": "code",
      "execution_count": null,
      "metadata": {
        "id": "0_y-BAULAYRd",
        "colab": {
          "base_uri": "https://localhost:8080/"
        },
        "outputId": "777be461-9ea9-48a7-c437-9c2dcdc900b9"
      },
      "outputs": [
        {
          "output_type": "stream",
          "name": "stderr",
          "text": [
            "/usr/local/lib/python3.7/dist-packages/statsmodels/tools/_testing.py:19: FutureWarning: pandas.util.testing is deprecated. Use the functions in the public API at pandas.testing instead.\n",
            "  import pandas.util.testing as tm\n"
          ]
        }
      ],
      "source": [
        "# calculating vif\n",
        "from statsmodels.stats.outliers_influence import variance_inflation_factor\n",
        "  \n",
        "def check_vif(dataframe):\n",
        "  # the independent variables set\n",
        "  X = dataframe\n",
        "  # VIF dataframe\n",
        "  vif_data = pd.DataFrame()\n",
        "  vif_data[\"feature\"] = X.columns\n",
        "    \n",
        "  # calculating VIF for each feature\n",
        "  vif_data[\"VIF\"] = [variance_inflation_factor(X.values, i)\n",
        "                            for i in range(len(X.columns))]\n",
        "  print(vif_data)"
      ]
    },
    {
      "cell_type": "code",
      "execution_count": null,
      "metadata": {
        "colab": {
          "base_uri": "https://localhost:8080/"
        },
        "id": "qPXXs2eY_RNN",
        "outputId": "37ce90e4-138b-40ca-dda7-55f843fe4947"
      },
      "outputs": [
        {
          "output_type": "stream",
          "name": "stdout",
          "text": [
            "          feature        VIF\n",
            "0   battery_power   8.073908\n",
            "1            blue   1.982736\n",
            "2     clock_speed   4.261359\n",
            "3        dual_sim   2.014356\n",
            "4              fc   3.412883\n",
            "5          four_g   3.193731\n",
            "6      int_memory   3.960540\n",
            "7           m_dep   3.910499\n",
            "8       mobile_wt  12.969326\n",
            "9         n_cores   4.647420\n",
            "10             pc   6.222849\n",
            "11      px_height   4.280154\n",
            "12       px_width  11.792757\n",
            "13            ram   4.688630\n",
            "14           sc_h  11.675539\n",
            "15           sc_w   4.650102\n",
            "16      talk_time   4.857407\n",
            "17        three_g   6.195323\n",
            "18   touch_screen   1.988861\n",
            "19           wifi   2.020265\n"
          ]
        }
      ],
      "source": [
        "check_vif(df_1[['battery_power', 'blue', 'clock_speed', 'dual_sim', 'fc', 'four_g',\n",
        "       'int_memory', 'm_dep', 'mobile_wt', 'n_cores', 'pc', 'px_height',\n",
        "       'px_width', 'ram', 'sc_h', 'sc_w', 'talk_time', 'three_g',\n",
        "       'touch_screen', 'wifi']])"
      ]
    },
    {
      "cell_type": "markdown",
      "source": [
        "Features like mobile_wt,px_width,sc_h have VIF values above the acceptable range."
      ],
      "metadata": {
        "id": "fVk5CyJiDrL4"
      }
    },
    {
      "cell_type": "code",
      "execution_count": null,
      "metadata": {
        "id": "tLXuuEpqC40W"
      },
      "outputs": [],
      "source": [
        "#Extracting new feature 'screen_area' and 'ppi'\n",
        "df_1['screen_area'] =df_1['sc_h'] * df_1['sc_w']\n",
        "\n",
        "# df_1['Screen_area_inch']=df_1['screen_area']/(2.54*2.54)\n",
        "# df_1['ppi']=(df['px_width']*df['px_height'])/df_1['Screen_area_inch']"
      ]
    },
    {
      "cell_type": "code",
      "execution_count": null,
      "metadata": {
        "id": "orvc2Nj1Dk9e",
        "colab": {
          "base_uri": "https://localhost:8080/"
        },
        "outputId": "484855f8-10d4-4900-9d75-dd36049e7226"
      },
      "outputs": [
        {
          "output_type": "stream",
          "name": "stdout",
          "text": [
            "          feature        VIF\n",
            "0   battery_power   7.913731\n",
            "1            blue   1.977947\n",
            "2     clock_speed   4.243063\n",
            "3        dual_sim   2.010425\n",
            "4              fc   3.409754\n",
            "5          four_g   3.192267\n",
            "6      int_memory   3.897401\n",
            "7       mobile_wt  12.370727\n",
            "8         n_cores   4.603392\n",
            "9              pc   6.167611\n",
            "10            ram   4.655843\n",
            "11      talk_time   4.812244\n",
            "12        three_g   6.172743\n",
            "13   touch_screen   1.986288\n",
            "14           wifi   2.016051\n",
            "15    screen_area   2.313155\n",
            "16       px_width  11.634544\n",
            "17      px_height   4.273459\n"
          ]
        }
      ],
      "source": [
        "check_vif(df_1[['battery_power', 'blue', 'clock_speed', 'dual_sim', 'fc', 'four_g',\n",
        "       'int_memory','mobile_wt', 'n_cores', 'pc', 'ram', 'talk_time',\n",
        "       'three_g', 'touch_screen', 'wifi',\n",
        "       'screen_area','px_width','px_height']])"
      ]
    },
    {
      "cell_type": "markdown",
      "metadata": {
        "id": "n4pLxtoNFS3H"
      },
      "source": [
        "*There is a decrease in **VIF** scores of some features now.We cannot transform any further as all features seem important.*"
      ]
    },
    {
      "cell_type": "code",
      "source": [
        "#Dropping the columns sc_h and sc_w\n",
        "df_1.drop([ 'sc_h', 'sc_w'], axis=1, inplace=True)"
      ],
      "metadata": {
        "id": "gt2zH1HyS4dV"
      },
      "execution_count": null,
      "outputs": []
    },
    {
      "cell_type": "code",
      "execution_count": null,
      "metadata": {
        "id": "sUKja9prDpeW"
      },
      "outputs": [],
      "source": [
        "# seperating independent and dependent variables\n",
        "X = df_1.drop(['price_range'],axis=1)\n",
        "y = df_1['price_range']"
      ]
    },
    {
      "cell_type": "code",
      "source": [
        "# Splitting the dataset into training and test set.  \n",
        "from sklearn.model_selection import train_test_split  \n",
        "X_train, X_test, y_train, y_test= train_test_split(X, y, test_size= 0.25, random_state=0)  "
      ],
      "metadata": {
        "id": "rItXabuduVa1"
      },
      "execution_count": null,
      "outputs": []
    },
    {
      "cell_type": "markdown",
      "source": [
        "### **SelectKBest**"
      ],
      "metadata": {
        "id": "4mLIVsgNTeMu"
      }
    },
    {
      "cell_type": "code",
      "source": [
        "from sklearn.feature_selection import SelectKBest,chi2"
      ],
      "metadata": {
        "id": "cNCdnH9a6mjJ"
      },
      "execution_count": null,
      "outputs": []
    },
    {
      "cell_type": "code",
      "source": [
        "best_features = SelectKBest(chi2,k=15)\n",
        "kbest= best_features.fit(X_train,y_train)"
      ],
      "metadata": {
        "id": "CocW68IP6mjM"
      },
      "execution_count": null,
      "outputs": []
    },
    {
      "cell_type": "code",
      "source": [
        "scores = pd.DataFrame(kbest.scores_)\n",
        "features = pd.DataFrame(X_train.columns)"
      ],
      "metadata": {
        "id": "LV0Moua06mjO"
      },
      "execution_count": null,
      "outputs": []
    },
    {
      "cell_type": "code",
      "source": [
        "# concat both dataframes for comparing best scores\n",
        "\n",
        "score_list = pd.concat([features,scores],axis=1)\n",
        "score_list.columns = [\"features\",\"scores\"]\n",
        "score_list"
      ],
      "metadata": {
        "colab": {
          "base_uri": "https://localhost:8080/",
          "height": 644
        },
        "outputId": "6953ecb3-d6bb-40d5-e99d-6c7435f608e9",
        "id": "7uk125xl6mjP"
      },
      "execution_count": null,
      "outputs": [
        {
          "output_type": "execute_result",
          "data": {
            "text/plain": [
              "         features         scores\n",
              "0   battery_power   10766.180983\n",
              "1            blue       1.281495\n",
              "2     clock_speed       0.061901\n",
              "3        dual_sim       0.741418\n",
              "4              fc       7.900221\n",
              "5          four_g       1.640368\n",
              "6      int_memory      98.958062\n",
              "7           m_dep       0.444022\n",
              "8       mobile_wt      95.306241\n",
              "9         n_cores      12.450863\n",
              "10             pc       5.466687\n",
              "11      px_height   12902.545931\n",
              "12       px_width    7092.492820\n",
              "13            ram  684408.089220\n",
              "14      talk_time       7.776796\n",
              "15        three_g       0.124334\n",
              "16   touch_screen       2.297198\n",
              "17           wifi       0.254847\n",
              "18    screen_area     164.113655"
            ],
            "text/html": [
              "\n",
              "  <div id=\"df-515f5bb5-1a0f-4c38-9f70-f349ce8904fc\">\n",
              "    <div class=\"colab-df-container\">\n",
              "      <div>\n",
              "<style scoped>\n",
              "    .dataframe tbody tr th:only-of-type {\n",
              "        vertical-align: middle;\n",
              "    }\n",
              "\n",
              "    .dataframe tbody tr th {\n",
              "        vertical-align: top;\n",
              "    }\n",
              "\n",
              "    .dataframe thead th {\n",
              "        text-align: right;\n",
              "    }\n",
              "</style>\n",
              "<table border=\"1\" class=\"dataframe\">\n",
              "  <thead>\n",
              "    <tr style=\"text-align: right;\">\n",
              "      <th></th>\n",
              "      <th>features</th>\n",
              "      <th>scores</th>\n",
              "    </tr>\n",
              "  </thead>\n",
              "  <tbody>\n",
              "    <tr>\n",
              "      <th>0</th>\n",
              "      <td>battery_power</td>\n",
              "      <td>10766.180983</td>\n",
              "    </tr>\n",
              "    <tr>\n",
              "      <th>1</th>\n",
              "      <td>blue</td>\n",
              "      <td>1.281495</td>\n",
              "    </tr>\n",
              "    <tr>\n",
              "      <th>2</th>\n",
              "      <td>clock_speed</td>\n",
              "      <td>0.061901</td>\n",
              "    </tr>\n",
              "    <tr>\n",
              "      <th>3</th>\n",
              "      <td>dual_sim</td>\n",
              "      <td>0.741418</td>\n",
              "    </tr>\n",
              "    <tr>\n",
              "      <th>4</th>\n",
              "      <td>fc</td>\n",
              "      <td>7.900221</td>\n",
              "    </tr>\n",
              "    <tr>\n",
              "      <th>5</th>\n",
              "      <td>four_g</td>\n",
              "      <td>1.640368</td>\n",
              "    </tr>\n",
              "    <tr>\n",
              "      <th>6</th>\n",
              "      <td>int_memory</td>\n",
              "      <td>98.958062</td>\n",
              "    </tr>\n",
              "    <tr>\n",
              "      <th>7</th>\n",
              "      <td>m_dep</td>\n",
              "      <td>0.444022</td>\n",
              "    </tr>\n",
              "    <tr>\n",
              "      <th>8</th>\n",
              "      <td>mobile_wt</td>\n",
              "      <td>95.306241</td>\n",
              "    </tr>\n",
              "    <tr>\n",
              "      <th>9</th>\n",
              "      <td>n_cores</td>\n",
              "      <td>12.450863</td>\n",
              "    </tr>\n",
              "    <tr>\n",
              "      <th>10</th>\n",
              "      <td>pc</td>\n",
              "      <td>5.466687</td>\n",
              "    </tr>\n",
              "    <tr>\n",
              "      <th>11</th>\n",
              "      <td>px_height</td>\n",
              "      <td>12902.545931</td>\n",
              "    </tr>\n",
              "    <tr>\n",
              "      <th>12</th>\n",
              "      <td>px_width</td>\n",
              "      <td>7092.492820</td>\n",
              "    </tr>\n",
              "    <tr>\n",
              "      <th>13</th>\n",
              "      <td>ram</td>\n",
              "      <td>684408.089220</td>\n",
              "    </tr>\n",
              "    <tr>\n",
              "      <th>14</th>\n",
              "      <td>talk_time</td>\n",
              "      <td>7.776796</td>\n",
              "    </tr>\n",
              "    <tr>\n",
              "      <th>15</th>\n",
              "      <td>three_g</td>\n",
              "      <td>0.124334</td>\n",
              "    </tr>\n",
              "    <tr>\n",
              "      <th>16</th>\n",
              "      <td>touch_screen</td>\n",
              "      <td>2.297198</td>\n",
              "    </tr>\n",
              "    <tr>\n",
              "      <th>17</th>\n",
              "      <td>wifi</td>\n",
              "      <td>0.254847</td>\n",
              "    </tr>\n",
              "    <tr>\n",
              "      <th>18</th>\n",
              "      <td>screen_area</td>\n",
              "      <td>164.113655</td>\n",
              "    </tr>\n",
              "  </tbody>\n",
              "</table>\n",
              "</div>\n",
              "      <button class=\"colab-df-convert\" onclick=\"convertToInteractive('df-515f5bb5-1a0f-4c38-9f70-f349ce8904fc')\"\n",
              "              title=\"Convert this dataframe to an interactive table.\"\n",
              "              style=\"display:none;\">\n",
              "        \n",
              "  <svg xmlns=\"http://www.w3.org/2000/svg\" height=\"24px\"viewBox=\"0 0 24 24\"\n",
              "       width=\"24px\">\n",
              "    <path d=\"M0 0h24v24H0V0z\" fill=\"none\"/>\n",
              "    <path d=\"M18.56 5.44l.94 2.06.94-2.06 2.06-.94-2.06-.94-.94-2.06-.94 2.06-2.06.94zm-11 1L8.5 8.5l.94-2.06 2.06-.94-2.06-.94L8.5 2.5l-.94 2.06-2.06.94zm10 10l.94 2.06.94-2.06 2.06-.94-2.06-.94-.94-2.06-.94 2.06-2.06.94z\"/><path d=\"M17.41 7.96l-1.37-1.37c-.4-.4-.92-.59-1.43-.59-.52 0-1.04.2-1.43.59L10.3 9.45l-7.72 7.72c-.78.78-.78 2.05 0 2.83L4 21.41c.39.39.9.59 1.41.59.51 0 1.02-.2 1.41-.59l7.78-7.78 2.81-2.81c.8-.78.8-2.07 0-2.86zM5.41 20L4 18.59l7.72-7.72 1.47 1.35L5.41 20z\"/>\n",
              "  </svg>\n",
              "      </button>\n",
              "      \n",
              "  <style>\n",
              "    .colab-df-container {\n",
              "      display:flex;\n",
              "      flex-wrap:wrap;\n",
              "      gap: 12px;\n",
              "    }\n",
              "\n",
              "    .colab-df-convert {\n",
              "      background-color: #E8F0FE;\n",
              "      border: none;\n",
              "      border-radius: 50%;\n",
              "      cursor: pointer;\n",
              "      display: none;\n",
              "      fill: #1967D2;\n",
              "      height: 32px;\n",
              "      padding: 0 0 0 0;\n",
              "      width: 32px;\n",
              "    }\n",
              "\n",
              "    .colab-df-convert:hover {\n",
              "      background-color: #E2EBFA;\n",
              "      box-shadow: 0px 1px 2px rgba(60, 64, 67, 0.3), 0px 1px 3px 1px rgba(60, 64, 67, 0.15);\n",
              "      fill: #174EA6;\n",
              "    }\n",
              "\n",
              "    [theme=dark] .colab-df-convert {\n",
              "      background-color: #3B4455;\n",
              "      fill: #D2E3FC;\n",
              "    }\n",
              "\n",
              "    [theme=dark] .colab-df-convert:hover {\n",
              "      background-color: #434B5C;\n",
              "      box-shadow: 0px 1px 3px 1px rgba(0, 0, 0, 0.15);\n",
              "      filter: drop-shadow(0px 1px 2px rgba(0, 0, 0, 0.3));\n",
              "      fill: #FFFFFF;\n",
              "    }\n",
              "  </style>\n",
              "\n",
              "      <script>\n",
              "        const buttonEl =\n",
              "          document.querySelector('#df-515f5bb5-1a0f-4c38-9f70-f349ce8904fc button.colab-df-convert');\n",
              "        buttonEl.style.display =\n",
              "          google.colab.kernel.accessAllowed ? 'block' : 'none';\n",
              "\n",
              "        async function convertToInteractive(key) {\n",
              "          const element = document.querySelector('#df-515f5bb5-1a0f-4c38-9f70-f349ce8904fc');\n",
              "          const dataTable =\n",
              "            await google.colab.kernel.invokeFunction('convertToInteractive',\n",
              "                                                     [key], {});\n",
              "          if (!dataTable) return;\n",
              "\n",
              "          const docLinkHtml = 'Like what you see? Visit the ' +\n",
              "            '<a target=\"_blank\" href=https://colab.research.google.com/notebooks/data_table.ipynb>data table notebook</a>'\n",
              "            + ' to learn more about interactive tables.';\n",
              "          element.innerHTML = '';\n",
              "          dataTable['output_type'] = 'display_data';\n",
              "          await google.colab.output.renderOutput(dataTable, element);\n",
              "          const docLink = document.createElement('div');\n",
              "          docLink.innerHTML = docLinkHtml;\n",
              "          element.appendChild(docLink);\n",
              "        }\n",
              "      </script>\n",
              "    </div>\n",
              "  </div>\n",
              "  "
            ]
          },
          "metadata": {},
          "execution_count": 35
        }
      ]
    },
    {
      "cell_type": "code",
      "source": [
        "#Top 10 Features with highest scores\n",
        "print(score_list.nlargest(10,\"scores\"))"
      ],
      "metadata": {
        "colab": {
          "base_uri": "https://localhost:8080/"
        },
        "outputId": "8e504262-e681-4407-a949-1cfa4148973f",
        "id": "Q5JqB-sT6mjT"
      },
      "execution_count": null,
      "outputs": [
        {
          "output_type": "stream",
          "name": "stdout",
          "text": [
            "         features         scores\n",
            "13            ram  684408.089220\n",
            "11      px_height   12902.545931\n",
            "0   battery_power   10766.180983\n",
            "12       px_width    7092.492820\n",
            "18    screen_area     164.113655\n",
            "6      int_memory      98.958062\n",
            "8       mobile_wt      95.306241\n",
            "9         n_cores      12.450863\n",
            "4              fc       7.900221\n",
            "14      talk_time       7.776796\n"
          ]
        }
      ]
    },
    {
      "cell_type": "markdown",
      "source": [
        "\n",
        "\n",
        "###**Random Forest Classifier**\n",
        "\n",
        "\n",
        "* *Creating a baseline model for Random Forest Classifier*"
      ],
      "metadata": {
        "id": "UdAlEYb9RPbz"
      }
    },
    {
      "cell_type": "code",
      "source": [
        "#Fitting the RFR classifier with default parameters to the training set  \n",
        "from sklearn.ensemble import RandomForestClassifier  \n",
        "rfr= RandomForestClassifier(random_state=0)  \n",
        "rfr.fit(X_train, y_train) "
      ],
      "metadata": {
        "colab": {
          "base_uri": "https://localhost:8080/"
        },
        "id": "MZK_tqZ4-BeQ",
        "outputId": "90aa3f65-0251-4c9c-9a02-fdea7f4d581a"
      },
      "execution_count": null,
      "outputs": [
        {
          "output_type": "execute_result",
          "data": {
            "text/plain": [
              "RandomForestClassifier(random_state=0)"
            ]
          },
          "metadata": {},
          "execution_count": 45
        }
      ]
    },
    {
      "cell_type": "code",
      "source": [
        "# prediction for training set\n",
        "y_pred_train = rfr.predict(X_train)\n",
        "#Predicting the test set result  \n",
        "y_pred_test= rfr.predict(X_test)  "
      ],
      "metadata": {
        "id": "iAYYV-faAyuj"
      },
      "execution_count": null,
      "outputs": []
    },
    {
      "cell_type": "code",
      "source": [
        "def classification_performance(y_,y_pred):\n",
        "  '''\n",
        "  This function prints the accuracy score,confusion matrix and classification report of model\n",
        "  The inputs to this model are the actual values of the target variable 'y' and the predicted value 'y_pred'\n",
        "  '''\n",
        "  from sklearn.metrics import confusion_matrix,classification_report, accuracy_score\n",
        "  #accuracy\n",
        "  print(\"Accuracy score is {}\".format(accuracy_score(y_, y_pred)))\n",
        "  #confusion matrix and classification report for the test/train set\n",
        "  print(\"-\"*60)\n",
        "  print(\"Confusion matrix\")\n",
        "  print(confusion_matrix(y_, y_pred))\n",
        "  print(\"-\"*60)\n",
        "  print('Classification report')\n",
        "  print(classification_report(y_, y_pred,digits=3))"
      ],
      "metadata": {
        "id": "bSgXVC2UxOTk"
      },
      "execution_count": null,
      "outputs": []
    },
    {
      "cell_type": "code",
      "source": [
        "# Accuracy score,confusion matrix and classification report for training set\n",
        "print('Evaluating the performance on Training data')\n",
        "classification_performance(y_train,y_pred_train)"
      ],
      "metadata": {
        "colab": {
          "base_uri": "https://localhost:8080/"
        },
        "id": "O-3Q7ZFrm5o_",
        "outputId": "74afdff5-f5f5-4a3c-e9bb-2296f9bc0d47"
      },
      "execution_count": null,
      "outputs": [
        {
          "output_type": "stream",
          "name": "stdout",
          "text": [
            "Evaluating the performance on Training data\n",
            "Accuracy score is 1.0\n",
            "------------------------------------------------------------\n",
            "Confusion matrix\n",
            "[[376   0   0   0]\n",
            " [  0 390   0   0]\n",
            " [  0   0 375   0]\n",
            " [  0   0   0 359]]\n",
            "------------------------------------------------------------\n",
            "Classification report\n",
            "              precision    recall  f1-score   support\n",
            "\n",
            "           0      1.000     1.000     1.000       376\n",
            "           1      1.000     1.000     1.000       390\n",
            "           2      1.000     1.000     1.000       375\n",
            "           3      1.000     1.000     1.000       359\n",
            "\n",
            "    accuracy                          1.000      1500\n",
            "   macro avg      1.000     1.000     1.000      1500\n",
            "weighted avg      1.000     1.000     1.000      1500\n",
            "\n"
          ]
        }
      ]
    },
    {
      "cell_type": "code",
      "source": [
        "# Accuracy score,confusion matrix and classification report for testing set\n",
        "print('Evaluating the performance on Test data')\n",
        "classification_performance(y_test,y_pred_test)"
      ],
      "metadata": {
        "id": "nH2Jhn7rBBK1",
        "colab": {
          "base_uri": "https://localhost:8080/"
        },
        "outputId": "7622a97b-4bc5-4564-9b54-eca0cfe7d522"
      },
      "execution_count": null,
      "outputs": [
        {
          "output_type": "stream",
          "name": "stdout",
          "text": [
            "Evaluating the performance on Test data\n",
            "Accuracy score is 0.876\n",
            "------------------------------------------------------------\n",
            "Confusion matrix\n",
            "[[122   2   0   0]\n",
            " [ 10  89  11   0]\n",
            " [  0  16  98  11]\n",
            " [  0   0  12 129]]\n",
            "------------------------------------------------------------\n",
            "Classification report\n",
            "              precision    recall  f1-score   support\n",
            "\n",
            "           0      0.924     0.984     0.953       124\n",
            "           1      0.832     0.809     0.820       110\n",
            "           2      0.810     0.784     0.797       125\n",
            "           3      0.921     0.915     0.918       141\n",
            "\n",
            "    accuracy                          0.876       500\n",
            "   macro avg      0.872     0.873     0.872       500\n",
            "weighted avg      0.875     0.876     0.875       500\n",
            "\n"
          ]
        }
      ]
    },
    {
      "cell_type": "code",
      "source": [
        "# making function to plot model's feature importance\n",
        "def plotting_imp_features(model, training_data):\n",
        "  imp_features = model.feature_importances_\n",
        "  feature_names = training_data.columns\n",
        "  _imp_features = pd.Series(imp_features, index=feature_names)\n",
        "  df=pd.DataFrame({'Features':feature_names,'Importance':imp_features})\n",
        "  df=df.sort_values(by='Importance',ascending=False).head(10)\n",
        "  sns.barplot(x='Importance',y='Features',data=df,color='b')"
      ],
      "metadata": {
        "id": "_YX-H8dVjK14"
      },
      "execution_count": null,
      "outputs": []
    },
    {
      "cell_type": "code",
      "source": [
        "plotting_imp_features(rfr, X_train)"
      ],
      "metadata": {
        "colab": {
          "base_uri": "https://localhost:8080/",
          "height": 278
        },
        "id": "S5-JkjBAjk6Q",
        "outputId": "acfc2996-8900-4aa6-860a-c3d5941ebd12"
      },
      "execution_count": null,
      "outputs": [
        {
          "output_type": "display_data",
          "data": {
            "text/plain": [
              "<Figure size 432x288 with 1 Axes>"
            ],
            "image/png": "[encoded data removed]"
          },
          "metadata": {
            "needs_background": "light"
          }
        }
      ]
    },
    {
      "cell_type": "code",
      "source": [
        "# seperating independent and dependent variables\n",
        "X_train= X_train[['battery_power','fc','int_memory','mobile_wt', 'n_cores', 'pc', 'ram', 'talk_time','screen_area','clock_speed','px_width','px_height']]\n",
        "X_test= X_test[['battery_power','fc','int_memory','mobile_wt', 'n_cores', 'pc', 'ram', 'talk_time','screen_area','clock_speed','px_width','px_height']]"
      ],
      "metadata": {
        "id": "rJY1s9Q0mi49"
      },
      "execution_count": null,
      "outputs": []
    },
    {
      "cell_type": "code",
      "source": [
        "#creating list of numerical and categorical columns from the selected features\n",
        "selected_numerical_columns=[]\n",
        "for col in X_train.columns:\n",
        "  if X_train[col].nunique()>5:\n",
        "    selected_numerical_columns.append(col)\n",
        "selected_categorical_columns=list(set(X_train.columns)-set(numerical_columns))"
      ],
      "metadata": {
        "id": "8HaFGEFSLtWO"
      },
      "execution_count": null,
      "outputs": []
    },
    {
      "cell_type": "code",
      "source": [
        "print(selected_numerical_columns)\n",
        "print(selected_categorical_columns)"
      ],
      "metadata": {
        "colab": {
          "base_uri": "https://localhost:8080/"
        },
        "id": "G5_AiU6orsP2",
        "outputId": "d70b6cf4-9bb9-4c4f-ff2d-ef64c0564958"
      },
      "execution_count": null,
      "outputs": [
        {
          "output_type": "stream",
          "name": "stdout",
          "text": [
            "['battery_power', 'fc', 'int_memory', 'mobile_wt', 'n_cores', 'pc', 'ram', 'talk_time', 'screen_area', 'clock_speed', 'px_width', 'px_height']\n",
            "[]\n"
          ]
        }
      ]
    },
    {
      "cell_type": "code",
      "source": [
        "#Feature Scaling  \n",
        "from sklearn.preprocessing import MinMaxScaler    \n",
        "min_max_scale= MinMaxScaler()\n",
        "X_train[selected_numerical_columns]= min_max_scale.fit_transform(X_train[selected_numerical_columns])    \n",
        "X_test[selected_numerical_columns]= min_max_scale.transform(X_test[selected_numerical_columns])  "
      ],
      "metadata": {
        "id": "5cmPzncVub9p"
      },
      "execution_count": null,
      "outputs": []
    },
    {
      "cell_type": "markdown",
      "source": [
        "# ***K Nearest Neighbors Classifier***"
      ],
      "metadata": {
        "id": "c5NI54bzzLP-"
      }
    },
    {
      "cell_type": "markdown",
      "source": [
        "* Untuned KNN Classifier"
      ],
      "metadata": {
        "id": "WrjIYA0x7YE1"
      }
    },
    {
      "cell_type": "code",
      "source": [
        "#Fitting K-NN classifier to the training set  \n",
        "from sklearn.neighbors import KNeighborsClassifier  \n",
        "knn= KNeighborsClassifier( )  \n",
        "knn.fit(X_train, y_train)  "
      ],
      "metadata": {
        "colab": {
          "base_uri": "https://localhost:8080/"
        },
        "id": "4Dh9dfLAuofL",
        "outputId": "e6450c2d-949e-49b7-d7e9-bc2308363bdb"
      },
      "execution_count": null,
      "outputs": [
        {
          "output_type": "execute_result",
          "data": {
            "text/plain": [
              "KNeighborsClassifier()"
            ]
          },
          "metadata": {},
          "execution_count": 62
        }
      ]
    },
    {
      "cell_type": "code",
      "source": [
        "# prediction for training set\n",
        "y_pred_train = knn.predict(X_train)"
      ],
      "metadata": {
        "id": "Qkh_KZ7f3Mmi"
      },
      "execution_count": null,
      "outputs": []
    },
    {
      "cell_type": "code",
      "source": [
        "# prediction fot testing set\n",
        "y_pred_test =knn.predict(X_test)"
      ],
      "metadata": {
        "id": "9A3sCL6WJNNG"
      },
      "execution_count": null,
      "outputs": []
    },
    {
      "cell_type": "code",
      "source": [
        "# Accuracy score,confusion matrix and classification report for training set\n",
        "classification_performance(y_train,y_pred_train)"
      ],
      "metadata": {
        "colab": {
          "base_uri": "https://localhost:8080/"
        },
        "id": "9n3ccbY2ywlH",
        "outputId": "599fb549-95e5-40cd-e097-6beaf1252f66"
      },
      "execution_count": null,
      "outputs": [
        {
          "output_type": "stream",
          "name": "stdout",
          "text": [
            "Accuracy score is 0.7686666666666667\n",
            "------------------------------------------------------------\n",
            "Confusion matrix\n",
            "[[332  43   1   0]\n",
            " [ 68 290  31   1]\n",
            " [  2  94 255  24]\n",
            " [  0  11  72 276]]\n",
            "------------------------------------------------------------\n",
            "Classification report\n",
            "              precision    recall  f1-score   support\n",
            "\n",
            "           0      0.826     0.883     0.853       376\n",
            "           1      0.662     0.744     0.700       390\n",
            "           2      0.710     0.680     0.695       375\n",
            "           3      0.917     0.769     0.836       359\n",
            "\n",
            "    accuracy                          0.769      1500\n",
            "   macro avg      0.779     0.769     0.771      1500\n",
            "weighted avg      0.776     0.769     0.770      1500\n",
            "\n"
          ]
        }
      ]
    },
    {
      "cell_type": "code",
      "source": [
        "# Accuracy score,confusion matrix and classification report for testing set\n",
        "classification_performance(y_test,y_pred_test)"
      ],
      "metadata": {
        "colab": {
          "base_uri": "https://localhost:8080/"
        },
        "id": "BhE3gBDsFxH2",
        "outputId": "f034a6f0-2f9e-4989-a71f-b75395ca7f96"
      },
      "execution_count": null,
      "outputs": [
        {
          "output_type": "stream",
          "name": "stdout",
          "text": [
            "Accuracy score is 0.628\n",
            "------------------------------------------------------------\n",
            "Confusion matrix\n",
            "[[103  19   2   0]\n",
            " [ 32  61  17   0]\n",
            " [  1  50  62  12]\n",
            " [  0   3  50  88]]\n",
            "------------------------------------------------------------\n",
            "Classification report\n",
            "              precision    recall  f1-score   support\n",
            "\n",
            "           0      0.757     0.831     0.792       124\n",
            "           1      0.459     0.555     0.502       110\n",
            "           2      0.473     0.496     0.484       125\n",
            "           3      0.880     0.624     0.730       141\n",
            "\n",
            "    accuracy                          0.628       500\n",
            "   macro avg      0.642     0.626     0.627       500\n",
            "weighted avg      0.655     0.628     0.634       500\n",
            "\n"
          ]
        }
      ]
    },
    {
      "cell_type": "markdown",
      "source": [
        " * *KNN classifier with hyperparameter tuning*"
      ],
      "metadata": {
        "id": "KaW8Qng97jwL"
      }
    },
    {
      "cell_type": "code",
      "metadata": {
        "id": "nYcLWUnm3kA7"
      },
      "source": [
        "# Import GridSearchCV\n",
        "from sklearn.model_selection import GridSearchCV"
      ],
      "execution_count": null,
      "outputs": []
    },
    {
      "cell_type": "code",
      "metadata": {
        "id": "Ljj9pe5F3j-Q",
        "colab": {
          "base_uri": "https://localhost:8080/"
        },
        "outputId": "16d10879-203b-4151-e525-ad690ed7d79a"
      },
      "source": [
        "#Hyperparameter tuning with GridSearchCV for knn\n",
        "knn = KNeighborsClassifier(algorithm='auto')\n",
        "parameters_grid = { 'n_neighbors': list(range(1,50)),'leaf_size': list(range(20,50)),'p': (1,2),'weights': ('uniform', 'distance')}        \n",
        "         \n",
        "# Performing 3-fold Grid Search Cross-validation on the knn model\n",
        "knn_cv = GridSearchCV(estimator=knn,param_grid=parameters_grid,scoring = 'accuracy',n_jobs = -1,cv = 3)\n",
        "knn_cv.fit(X_train,y_train)"
      ],
      "execution_count": null,
      "outputs": [
        {
          "output_type": "execute_result",
          "data": {
            "text/plain": [
              "GridSearchCV(cv=3, estimator=KNeighborsClassifier(), n_jobs=-1,\n",
              "             param_grid={'leaf_size': [20, 21, 22, 23, 24, 25, 26, 27, 28, 29,\n",
              "                                       30, 31, 32, 33, 34, 35, 36, 37, 38, 39,\n",
              "                                       40, 41, 42, 43, 44, 45, 46, 47, 48, 49],\n",
              "                         'n_neighbors': [1, 2, 3, 4, 5, 6, 7, 8, 9, 10, 11, 12,\n",
              "                                         13, 14, 15, 16, 17, 18, 19, 20, 21, 22,\n",
              "                                         23, 24, 25, 26, 27, 28, 29, 30, ...],\n",
              "                         'p': (1, 2), 'weights': ('uniform', 'distance')},\n",
              "             scoring='accuracy')"
            ]
          },
          "metadata": {},
          "execution_count": 83
        }
      ]
    },
    {
      "cell_type": "code",
      "metadata": {
        "colab": {
          "base_uri": "https://localhost:8080/"
        },
        "id": "N72gKFyD3j4G",
        "outputId": "a2055912-9fc0-4900-898d-77d2855c0182"
      },
      "source": [
        "#The hyperparameters of the best knn model\n",
        "print(f'The optimal value for hyperparameters are : {knn_cv.best_params_} \\n')"
      ],
      "execution_count": null,
      "outputs": [
        {
          "output_type": "stream",
          "name": "stdout",
          "text": [
            "The optimal value for hyperparameters are : {'leaf_size': 20, 'n_neighbors': 43, 'p': 1, 'weights': 'distance'} \n",
            "\n"
          ]
        }
      ]
    },
    {
      "cell_type": "code",
      "source": [
        "best_knn=knn_cv.best_estimator_\n",
        "best_knn.fit(X_train, y_train)  "
      ],
      "metadata": {
        "id": "_5AMQgZf9Mkl",
        "colab": {
          "base_uri": "https://localhost:8080/"
        },
        "outputId": "e29c2148-edf8-4e92-91f6-2023a5b7287e"
      },
      "execution_count": null,
      "outputs": [
        {
          "output_type": "execute_result",
          "data": {
            "text/plain": [
              "KNeighborsClassifier(leaf_size=20, n_neighbors=43, p=1, weights='distance')"
            ]
          },
          "metadata": {},
          "execution_count": 85
        }
      ]
    },
    {
      "cell_type": "code",
      "source": [
        "# prediction for training set\n",
        "y_pred_train = best_knn.predict(X_train)\n",
        "# prediction fot testing set\n",
        "y_pred_test =best_knn.predict(X_test)"
      ],
      "metadata": {
        "id": "gphl4irzObx-"
      },
      "execution_count": null,
      "outputs": []
    },
    {
      "cell_type": "code",
      "source": [
        "# Accuracy score,confusion matrix and classification report for training set\n",
        "classification_performance(y_train,y_pred_train)"
      ],
      "metadata": {
        "colab": {
          "base_uri": "https://localhost:8080/"
        },
        "id": "cTqO_ILSQJmC",
        "outputId": "79893029-afd3-47a6-eafb-df5142a430ff"
      },
      "execution_count": null,
      "outputs": [
        {
          "output_type": "stream",
          "name": "stdout",
          "text": [
            "Accuracy score is 1.0\n",
            "------------------------------------------------------------\n",
            "Confusion matrix\n",
            "[[376   0   0   0]\n",
            " [  0 390   0   0]\n",
            " [  0   0 375   0]\n",
            " [  0   0   0 359]]\n",
            "------------------------------------------------------------\n",
            "Classification report\n",
            "              precision    recall  f1-score   support\n",
            "\n",
            "           0      1.000     1.000     1.000       376\n",
            "           1      1.000     1.000     1.000       390\n",
            "           2      1.000     1.000     1.000       375\n",
            "           3      1.000     1.000     1.000       359\n",
            "\n",
            "    accuracy                          1.000      1500\n",
            "   macro avg      1.000     1.000     1.000      1500\n",
            "weighted avg      1.000     1.000     1.000      1500\n",
            "\n"
          ]
        }
      ]
    },
    {
      "cell_type": "code",
      "source": [
        "# Accuracy score,confusion matrix and classification report for testing set\n",
        "print('Evaluating the performance on Test data')\n",
        "classification_performance(y_test,y_pred_test)"
      ],
      "metadata": {
        "colab": {
          "base_uri": "https://localhost:8080/"
        },
        "outputId": "e897c508-bc1e-44c0-c9e7-530625392860",
        "id": "xe40rVnAObyF"
      },
      "execution_count": null,
      "outputs": [
        {
          "output_type": "stream",
          "name": "stdout",
          "text": [
            "Evaluating the performance on Test data\n",
            "Accuracy score is 0.792\n",
            "------------------------------------------------------------\n",
            "Confusion matrix\n",
            "[[113  11   0   0]\n",
            " [ 18  76  16   0]\n",
            " [  0  23  95   7]\n",
            " [  0   0  29 112]]\n",
            "------------------------------------------------------------\n",
            "Classification report\n",
            "              precision    recall  f1-score   support\n",
            "\n",
            "           0      0.863     0.911     0.886       124\n",
            "           1      0.691     0.691     0.691       110\n",
            "           2      0.679     0.760     0.717       125\n",
            "           3      0.941     0.794     0.862       141\n",
            "\n",
            "    accuracy                          0.792       500\n",
            "   macro avg      0.793     0.789     0.789       500\n",
            "weighted avg      0.801     0.792     0.794       500\n",
            "\n"
          ]
        }
      ]
    },
    {
      "cell_type": "markdown",
      "source": [
        "# ***Random Forest Classifier***"
      ],
      "metadata": {
        "id": "JawA32xS-vhi"
      }
    },
    {
      "cell_type": "markdown",
      "source": [
        "* *Tuned Random Forest Classifier*"
      ],
      "metadata": {
        "id": "FDJ_11yYVqdf"
      }
    },
    {
      "cell_type": "code",
      "source": [
        "#performing GridSearch Cross Validaton to find the optimal values of hyperparameters\n",
        "rfr=RandomForestClassifier( )  \n",
        "parameters_grid={'n_estimators' :[100, 300, 500],'max_depth' : [5, 8, 15, 25, 30],'min_samples_split' : [2, 5, 10, 15, 100],'min_samples_leaf': [1, 2, 5, 10]}\n",
        "rfr_cv = GridSearchCV(rfr, param_grid=parameters_grid, cv = 3, verbose = 1, n_jobs = -1,scoring='accuracy')\n",
        "rfr_cv.fit(X_train, y_train)"
      ],
      "metadata": {
        "colab": {
          "base_uri": "https://localhost:8080/"
        },
        "id": "XwAFTecoR-bC",
        "outputId": "168887b2-f2b8-4d68-b641-0a8fccc1ea08"
      },
      "execution_count": null,
      "outputs": [
        {
          "output_type": "stream",
          "name": "stdout",
          "text": [
            "Fitting 3 folds for each of 300 candidates, totalling 900 fits\n"
          ]
        },
        {
          "output_type": "execute_result",
          "data": {
            "text/plain": [
              "GridSearchCV(cv=3, estimator=RandomForestClassifier(), n_jobs=-1,\n",
              "             param_grid={'max_depth': [5, 8, 15, 25, 30],\n",
              "                         'min_samples_leaf': [1, 2, 5, 10],\n",
              "                         'min_samples_split': [2, 5, 10, 15, 100],\n",
              "                         'n_estimators': [100, 300, 500]},\n",
              "             scoring='accuracy', verbose=1)"
            ]
          },
          "metadata": {},
          "execution_count": 89
        }
      ]
    },
    {
      "cell_type": "code",
      "metadata": {
        "colab": {
          "base_uri": "https://localhost:8080/"
        },
        "outputId": "6bbfb3dd-c514-40bc-8160-4f441af85363",
        "id": "nCy3Z1bUX4xy"
      },
      "source": [
        "print(f'The optimal value for hyperparameters for Random Forest Classifier are : {rfr_cv.best_params_} ')"
      ],
      "execution_count": null,
      "outputs": [
        {
          "output_type": "stream",
          "name": "stdout",
          "text": [
            "The optimal value for hyperparameters for Random Forest Classifier are : {'max_depth': 25, 'min_samples_leaf': 2, 'min_samples_split': 5, 'n_estimators': 500} \n"
          ]
        }
      ]
    },
    {
      "cell_type": "code",
      "source": [
        "best_rfr=rfr_cv.best_estimator_\n",
        "best_rfr.fit(X_train, y_train)  "
      ],
      "metadata": {
        "colab": {
          "base_uri": "https://localhost:8080/"
        },
        "outputId": "75ae0593-5819-441a-9b8d-4e2d7e0f546b",
        "id": "cgSm6IJTX4yE"
      },
      "execution_count": null,
      "outputs": [
        {
          "output_type": "execute_result",
          "data": {
            "text/plain": [
              "RandomForestClassifier(max_depth=25, min_samples_leaf=2, min_samples_split=5,\n",
              "                       n_estimators=500)"
            ]
          },
          "metadata": {},
          "execution_count": 91
        }
      ]
    },
    {
      "cell_type": "code",
      "source": [
        "# prediction for training set\n",
        "y_pred_train = best_rfr.predict(X_train)\n",
        "# prediction fot testing set\n",
        "y_pred_test =best_rfr.predict(X_test)"
      ],
      "metadata": {
        "id": "EOWmNzySX4yG"
      },
      "execution_count": null,
      "outputs": []
    },
    {
      "cell_type": "code",
      "source": [
        "# Accuracy score,confusion matrix and classification report for testing set\n",
        "print('Evaluating the performance on Test data')\n",
        "classification_performance(y_test,y_pred_test)"
      ],
      "metadata": {
        "colab": {
          "base_uri": "https://localhost:8080/"
        },
        "outputId": "8c2adbc5-75f7-41da-ec00-46cb47e3c4a1",
        "id": "--OiIfOgX4yI"
      },
      "execution_count": null,
      "outputs": [
        {
          "output_type": "stream",
          "name": "stdout",
          "text": [
            "Evaluating the performance on Test data\n",
            "Accuracy score is 0.896\n",
            "------------------------------------------------------------\n",
            "Confusion matrix\n",
            "[[123   1   0   0]\n",
            " [  6  93  11   0]\n",
            " [  0  14 100  11]\n",
            " [  0   0   9 132]]\n",
            "------------------------------------------------------------\n",
            "Classification report\n",
            "              precision    recall  f1-score   support\n",
            "\n",
            "           0      0.953     0.992     0.972       124\n",
            "           1      0.861     0.845     0.853       110\n",
            "           2      0.833     0.800     0.816       125\n",
            "           3      0.923     0.936     0.930       141\n",
            "\n",
            "    accuracy                          0.896       500\n",
            "   macro avg      0.893     0.893     0.893       500\n",
            "weighted avg      0.895     0.896     0.895       500\n",
            "\n"
          ]
        }
      ]
    },
    {
      "cell_type": "code",
      "source": [
        "# making function to plot the best Random forest classifier model's feature importance\n",
        "plotting_imp_features(best_rfr, X_train)\n"
      ],
      "metadata": {
        "colab": {
          "base_uri": "https://localhost:8080/",
          "height": 278
        },
        "id": "tKG4TbWppw6b",
        "outputId": "71af5f44-aff3-49f0-e492-e90aa7ec1dad"
      },
      "execution_count": null,
      "outputs": [
        {
          "output_type": "display_data",
          "data": {
            "text/plain": [
              "<Figure size 432x288 with 1 Axes>"
            ],
            "image/png": "[encoded data removed]"
          },
          "metadata": {
            "needs_background": "light"
          }
        }
      ]
    }
  ]
}